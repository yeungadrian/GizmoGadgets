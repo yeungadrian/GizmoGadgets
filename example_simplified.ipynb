{
 "cells": [
  {
   "cell_type": "code",
   "execution_count": 1,
   "source": [
    "## Riot Games API"
   ],
   "outputs": [],
   "metadata": {}
  },
  {
   "cell_type": "code",
   "execution_count": 2,
   "source": [
    "import requests\n",
    "import json\n",
    "import time\n",
    "import pandas as pd\n",
    "# from tqdm import tqdm"
   ],
   "outputs": [
    {
     "output_type": "stream",
     "name": "stderr",
     "text": [
      "/Users/matthewkwan/Documents/ML-Ops/venv/lib/python3.9/site-packages/pandas/compat/__init__.py:124: UserWarning: Could not import the lzma module. Your installed Python is incomplete. Attempting to use lzma compression will result in a RuntimeError.\n",
      "  warnings.warn(msg)\n"
     ]
    }
   ],
   "metadata": {}
  },
  {
   "cell_type": "code",
   "execution_count": 3,
   "source": [
    "challenger_url = 'https://euw1.api.riotgames.com/tft/league/v1/challenger?api_key=RGAPI-4951a399-f393-4e56-843d-f750d17ff35b'\n",
    "challenger_response = requests.get(url = challenger_url).json()"
   ],
   "outputs": [],
   "metadata": {}
  },
  {
   "cell_type": "code",
   "execution_count": 4,
   "source": [
    "alt_url ='https://euw1.api.riotgames.com/tft/league/v1/challenger'\n",
    "challenger_header = {\n",
    "    \"X-Riot-Token\":\"RGAPI-53422e00-f8be-46ed-8080-2501d0f031da\"\n",
    "}\n"
   ],
   "outputs": [],
   "metadata": {}
  },
  {
   "cell_type": "code",
   "execution_count": 5,
   "source": [
    "#Sends API request and retrieves json response as variable called api_data\n",
    "api_data = requests.get(url = alt_url,headers=challenger_header).json()\n",
    "\n",
    "#Writes json response into a file called api_data.json\n",
    "with open(\"api_data.json\", \"w\") as write_file:\n",
    "    json.dump(api_data, write_file)\n",
    "\n",
    "#Writes json response into a dataframe\n",
    "api_data_df = pd.DataFrame(api_data['entries'])\n",
    "\n",
    "# #Selects relevant column in df and sets it as new variable\n",
    "summonerId_df = api_data_df.iloc[:,0]\n",
    "summonerName_df = api_data_df.iloc[:,1]\n",
    "rankedLeague_df = api_data_df.iloc[:,3]\n",
    "# puuid_df = api_data_df.iloc[:,?]\n",
    "leaguePoints_df = api_data_df.iloc[:,2]\n",
    "# region_df = api_data_df.iloc[:,?]"
   ],
   "outputs": [],
   "metadata": {}
  },
  {
   "cell_type": "code",
   "execution_count": 6,
   "source": [
    "import requests\n",
    "import json\n",
    "import time\n",
    "# from tqdm import tqdm  MK Comment => Why do we need to import these modules again?"
   ],
   "outputs": [],
   "metadata": {}
  },
  {
   "cell_type": "code",
   "execution_count": 7,
   "source": [
    "import psycopg2\n",
    "from config import config\n",
    "import pandas as pd"
   ],
   "outputs": [],
   "metadata": {}
  },
  {
   "cell_type": "code",
   "execution_count": 8,
   "source": [
    "params = config()\n",
    "# Connect to the PostgreSQL database\n",
    "conn = psycopg2.connect(**params, port = 5431)\n",
    "# Create a new cursor - A PostgreSQL database cursor is a read-only pointer that allows a program, regardless of the language used, to access the result set of a query. \n",
    "cur = conn.cursor()\n",
    "# A function that takes in a PostgreSQL query and outputs a pandas database "
   ],
   "outputs": [],
   "metadata": {}
  },
  {
   "cell_type": "code",
   "execution_count": 11,
   "source": [
    "#Loops through rows for df\n",
    "for i in range(0, len(summonerName_df)):\n",
    "    cur.execute(f'''\n",
    "    INSERT INTO public.\"Users\"(\n",
    "\t    id, \"summonerName\", \"summonerId\", \"rankedLeague\", puuid, leaguepoints, region)\n",
    "\t    VALUES (DEFAULT, '{summonerName_df[i]}', '{summonerId_df[i]}', '{rankedLeague_df[i]}', '?????', {leaguePoints_df[i]}, '?????')\n",
    "        WHERE \n",
    "        ''')"
   ],
   "outputs": [],
   "metadata": {}
  },
  {
   "cell_type": "code",
   "execution_count": 9,
   "source": [
    "#Use this cell to delete table data, although ID counter needs to be reset manually in Postgres\n",
    "cur.execute(f'''\n",
    "DELETE FROM public.\"Users\"\n",
    "''')"
   ],
   "outputs": [],
   "metadata": {}
  },
  {
   "cell_type": "code",
   "execution_count": 12,
   "source": [
    "conn.commit()"
   ],
   "outputs": [],
   "metadata": {}
  },
  {
   "cell_type": "markdown",
   "source": [
    "# Try...\n",
    "#Incorrect, then rollback transaction\n",
    "\n",
    "Commit or roll-back...\n",
    "\n",
    "for loop:\n",
    "take API and put into SQL \n",
    "Execute 1 person at a time...\n",
    "Validation of data type...\n",
    "\n",
    "psychopg to insert data into database"
   ],
   "metadata": {}
  }
 ],
 "metadata": {
  "orig_nbformat": 4,
  "language_info": {
   "name": "python",
   "version": "3.9.7",
   "mimetype": "text/x-python",
   "codemirror_mode": {
    "name": "ipython",
    "version": 3
   },
   "pygments_lexer": "ipython3",
   "nbconvert_exporter": "python",
   "file_extension": ".py"
  },
  "kernelspec": {
   "name": "python3",
   "display_name": "Python 3.9.7 64-bit ('venv': venv)"
  },
  "interpreter": {
   "hash": "ba2993050f70f8243cd778102be86df22f6e7f1cc7969173918c17a8db7b7d8d"
  }
 },
 "nbformat": 4,
 "nbformat_minor": 2
}