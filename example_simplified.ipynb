{
 "cells": [
  {
   "cell_type": "markdown",
   "source": [
    "# Project"
   ],
   "metadata": {}
  },
  {
   "cell_type": "markdown",
   "source": [
    "## Libraries"
   ],
   "metadata": {}
  },
  {
   "cell_type": "code",
   "execution_count": 33,
   "source": [
    "import requests\n",
    "import json\n",
    "import time\n",
    "import pandas as pd\n",
    "from tqdm import tqdm\n",
    "import psycopg2\n",
    "from config import config\n",
    "import configparser\n",
    "\n",
    "# from pydantic import BaseModel, ValidationError, validator (## for the future)"
   ],
   "outputs": [],
   "metadata": {}
  },
  {
   "cell_type": "markdown",
   "source": [
    "## Riot Games API"
   ],
   "metadata": {}
  },
  {
   "cell_type": "code",
   "execution_count": 5,
   "source": [
    "configParser = configparser.RawConfigParser()   \n",
    "configFilePath = r'config.txt'\n",
    "configParser.read(configFilePath)\n",
    "api_key = configParser.get('your-config', 'api_key')"
   ],
   "outputs": [],
   "metadata": {}
  },
  {
   "cell_type": "code",
   "execution_count": null,
   "source": [
    "region = 'euw1'"
   ],
   "outputs": [],
   "metadata": {}
  },
  {
   "cell_type": "code",
   "execution_count": 8,
   "source": [
    "challenger_url = f'https://{region}.api.riotgames.com/tft/league/v1/challenger?api_key={api_key}'\n",
    "challenger_response = requests.get(url = challenger_url).json()"
   ],
   "outputs": [],
   "metadata": {}
  },
  {
   "cell_type": "code",
   "execution_count": 27,
   "source": [
    "#Writes json response into a file called api_data.json\n",
    "with open(\"api_data.json\", \"w\") as write_file:\n",
    "    json.dump(challenger_response, write_file)\n",
    "\n",
    "#Writes json response into a dataframe\n",
    "challenger_response_df = pd.DataFrame(challenger_response['entries'])\n"
   ],
   "outputs": [],
   "metadata": {}
  },
  {
   "cell_type": "code",
   "execution_count": 31,
   "source": [
    "challenger_response_df"
   ],
   "outputs": [
    {
     "output_type": "execute_result",
     "data": {
      "text/html": [
       "<div>\n",
       "<style scoped>\n",
       "    .dataframe tbody tr th:only-of-type {\n",
       "        vertical-align: middle;\n",
       "    }\n",
       "\n",
       "    .dataframe tbody tr th {\n",
       "        vertical-align: top;\n",
       "    }\n",
       "\n",
       "    .dataframe thead th {\n",
       "        text-align: right;\n",
       "    }\n",
       "</style>\n",
       "<table border=\"1\" class=\"dataframe\">\n",
       "  <thead>\n",
       "    <tr style=\"text-align: right;\">\n",
       "      <th></th>\n",
       "      <th>summonerId</th>\n",
       "      <th>summonerName</th>\n",
       "      <th>leaguePoints</th>\n",
       "      <th>rank</th>\n",
       "      <th>wins</th>\n",
       "      <th>losses</th>\n",
       "      <th>veteran</th>\n",
       "      <th>inactive</th>\n",
       "      <th>freshBlood</th>\n",
       "      <th>hotStreak</th>\n",
       "    </tr>\n",
       "  </thead>\n",
       "  <tbody>\n",
       "    <tr>\n",
       "      <th>0</th>\n",
       "      <td>ST93EcMRl_XieHvdxVA_-3evb8WUZxeejm1BNzQkZALg3vU</td>\n",
       "      <td>SNG Lev Trotskij</td>\n",
       "      <td>1730</td>\n",
       "      <td>I</td>\n",
       "      <td>40</td>\n",
       "      <td>183</td>\n",
       "      <td>True</td>\n",
       "      <td>False</td>\n",
       "      <td>False</td>\n",
       "      <td>False</td>\n",
       "    </tr>\n",
       "    <tr>\n",
       "      <th>1</th>\n",
       "      <td>DAUPNC0PRLyXCiGvx4WPhOE9SlZHmdZjYigR7EMTr4edePA</td>\n",
       "      <td>ANO shreddin</td>\n",
       "      <td>1031</td>\n",
       "      <td>I</td>\n",
       "      <td>54</td>\n",
       "      <td>241</td>\n",
       "      <td>False</td>\n",
       "      <td>False</td>\n",
       "      <td>True</td>\n",
       "      <td>False</td>\n",
       "    </tr>\n",
       "    <tr>\n",
       "      <th>2</th>\n",
       "      <td>mCuEgOhd-ucdIGJI-1dR9ZqfRd08Ie9Dyrc-HcbXGqeQ8N7m</td>\n",
       "      <td>DV1 Sage</td>\n",
       "      <td>1057</td>\n",
       "      <td>I</td>\n",
       "      <td>47</td>\n",
       "      <td>248</td>\n",
       "      <td>False</td>\n",
       "      <td>False</td>\n",
       "      <td>True</td>\n",
       "      <td>False</td>\n",
       "    </tr>\n",
       "    <tr>\n",
       "      <th>3</th>\n",
       "      <td>PxGBPFGbeK3ZadtEk6WHoLlvk_bBnFyZB7gKESZcUmJnluyk</td>\n",
       "      <td>ARMA ACKK</td>\n",
       "      <td>1784</td>\n",
       "      <td>I</td>\n",
       "      <td>69</td>\n",
       "      <td>263</td>\n",
       "      <td>True</td>\n",
       "      <td>False</td>\n",
       "      <td>False</td>\n",
       "      <td>False</td>\n",
       "    </tr>\n",
       "    <tr>\n",
       "      <th>4</th>\n",
       "      <td>njcn3SSmte_vUrSw2yHu_HWnB_a-5dz1ghb7LbRk739p5-_k</td>\n",
       "      <td>BigDaddyLL</td>\n",
       "      <td>880</td>\n",
       "      <td>I</td>\n",
       "      <td>42</td>\n",
       "      <td>277</td>\n",
       "      <td>False</td>\n",
       "      <td>False</td>\n",
       "      <td>False</td>\n",
       "      <td>False</td>\n",
       "    </tr>\n",
       "    <tr>\n",
       "      <th>...</th>\n",
       "      <td>...</td>\n",
       "      <td>...</td>\n",
       "      <td>...</td>\n",
       "      <td>...</td>\n",
       "      <td>...</td>\n",
       "      <td>...</td>\n",
       "      <td>...</td>\n",
       "      <td>...</td>\n",
       "      <td>...</td>\n",
       "      <td>...</td>\n",
       "    </tr>\n",
       "    <tr>\n",
       "      <th>195</th>\n",
       "      <td>WagQouAo01fQ7lEzJ8IaV9ytKCUagyfOtoXAzMVG-aN1RAo</td>\n",
       "      <td>Lorus</td>\n",
       "      <td>978</td>\n",
       "      <td>I</td>\n",
       "      <td>44</td>\n",
       "      <td>317</td>\n",
       "      <td>True</td>\n",
       "      <td>False</td>\n",
       "      <td>False</td>\n",
       "      <td>False</td>\n",
       "    </tr>\n",
       "    <tr>\n",
       "      <th>196</th>\n",
       "      <td>qdIRHPCsg2P-BxS276kAJR8WRsEyRycO9bBXKLUy1ENzSPY</td>\n",
       "      <td>Senjó</td>\n",
       "      <td>824</td>\n",
       "      <td>I</td>\n",
       "      <td>38</td>\n",
       "      <td>328</td>\n",
       "      <td>False</td>\n",
       "      <td>False</td>\n",
       "      <td>True</td>\n",
       "      <td>False</td>\n",
       "    </tr>\n",
       "    <tr>\n",
       "      <th>197</th>\n",
       "      <td>L_bYU8q50LMN9Zf3SnBkX19vSTu0kKNdhKw4JtkQuiJWMhQ</td>\n",
       "      <td>iG Stelfalador</td>\n",
       "      <td>1205</td>\n",
       "      <td>I</td>\n",
       "      <td>49</td>\n",
       "      <td>216</td>\n",
       "      <td>True</td>\n",
       "      <td>False</td>\n",
       "      <td>False</td>\n",
       "      <td>False</td>\n",
       "    </tr>\n",
       "    <tr>\n",
       "      <th>198</th>\n",
       "      <td>-zbpNbiD3FBBB0bzMidm76FPx1sNO8f-BZxIETXDfiZlYJMC</td>\n",
       "      <td>AieZen</td>\n",
       "      <td>1006</td>\n",
       "      <td>I</td>\n",
       "      <td>23</td>\n",
       "      <td>130</td>\n",
       "      <td>False</td>\n",
       "      <td>False</td>\n",
       "      <td>False</td>\n",
       "      <td>False</td>\n",
       "    </tr>\n",
       "    <tr>\n",
       "      <th>199</th>\n",
       "      <td>U7keOG9Xz7JaN_HUz9z8R6Jr29d57MBgUffmmYlAJbgMqSo</td>\n",
       "      <td>CD Wavingthunder</td>\n",
       "      <td>828</td>\n",
       "      <td>I</td>\n",
       "      <td>23</td>\n",
       "      <td>163</td>\n",
       "      <td>False</td>\n",
       "      <td>False</td>\n",
       "      <td>False</td>\n",
       "      <td>False</td>\n",
       "    </tr>\n",
       "  </tbody>\n",
       "</table>\n",
       "<p>200 rows × 10 columns</p>\n",
       "</div>"
      ],
      "text/plain": [
       "                                           summonerId      summonerName  \\\n",
       "0     ST93EcMRl_XieHvdxVA_-3evb8WUZxeejm1BNzQkZALg3vU  SNG Lev Trotskij   \n",
       "1     DAUPNC0PRLyXCiGvx4WPhOE9SlZHmdZjYigR7EMTr4edePA      ANO shreddin   \n",
       "2    mCuEgOhd-ucdIGJI-1dR9ZqfRd08Ie9Dyrc-HcbXGqeQ8N7m          DV1 Sage   \n",
       "3    PxGBPFGbeK3ZadtEk6WHoLlvk_bBnFyZB7gKESZcUmJnluyk         ARMA ACKK   \n",
       "4    njcn3SSmte_vUrSw2yHu_HWnB_a-5dz1ghb7LbRk739p5-_k        BigDaddyLL   \n",
       "..                                                ...               ...   \n",
       "195   WagQouAo01fQ7lEzJ8IaV9ytKCUagyfOtoXAzMVG-aN1RAo             Lorus   \n",
       "196   qdIRHPCsg2P-BxS276kAJR8WRsEyRycO9bBXKLUy1ENzSPY             Senjó   \n",
       "197   L_bYU8q50LMN9Zf3SnBkX19vSTu0kKNdhKw4JtkQuiJWMhQ    iG Stelfalador   \n",
       "198  -zbpNbiD3FBBB0bzMidm76FPx1sNO8f-BZxIETXDfiZlYJMC            AieZen   \n",
       "199   U7keOG9Xz7JaN_HUz9z8R6Jr29d57MBgUffmmYlAJbgMqSo  CD Wavingthunder   \n",
       "\n",
       "     leaguePoints rank  wins  losses  veteran  inactive  freshBlood  hotStreak  \n",
       "0            1730    I    40     183     True     False       False      False  \n",
       "1            1031    I    54     241    False     False        True      False  \n",
       "2            1057    I    47     248    False     False        True      False  \n",
       "3            1784    I    69     263     True     False       False      False  \n",
       "4             880    I    42     277    False     False       False      False  \n",
       "..            ...  ...   ...     ...      ...       ...         ...        ...  \n",
       "195           978    I    44     317     True     False       False      False  \n",
       "196           824    I    38     328    False     False        True      False  \n",
       "197          1205    I    49     216     True     False       False      False  \n",
       "198          1006    I    23     130    False     False       False      False  \n",
       "199           828    I    23     163    False     False       False      False  \n",
       "\n",
       "[200 rows x 10 columns]"
      ]
     },
     "metadata": {},
     "execution_count": 31
    }
   ],
   "metadata": {}
  },
  {
   "cell_type": "code",
   "execution_count": 30,
   "source": [
    "# entries is just a key of the json\n",
    "challenger_response.keys()"
   ],
   "outputs": [
    {
     "output_type": "execute_result",
     "data": {
      "text/plain": [
       "dict_keys(['tier', 'leagueId', 'queue', 'name', 'entries'])"
      ]
     },
     "metadata": {},
     "execution_count": 30
    }
   ],
   "metadata": {}
  },
  {
   "cell_type": "markdown",
   "source": [
    "## Postgresql Database"
   ],
   "metadata": {}
  },
  {
   "cell_type": "code",
   "execution_count": 8,
   "source": [
    "params = config()\n",
    "# Connect to the PostgreSQL database\n",
    "conn = psycopg2.connect(**params, port = 5431)\n",
    "# Create a new cursor - A PostgreSQL database cursor is a read-only pointer that allows a program, regardless of the language used, to access the result set of a query. \n",
    "cur = conn.cursor()\n",
    "# A function that takes in a PostgreSQL query and outputs a pandas database "
   ],
   "outputs": [],
   "metadata": {}
  },
  {
   "cell_type": "code",
   "execution_count": null,
   "source": [
    "\n",
    "\n",
    "class UserModel(BaseModel):\n",
    "    summonerId: str\n",
    "    leaguepoints: int"
   ],
   "outputs": [],
   "metadata": {}
  },
  {
   "cell_type": "code",
   "execution_count": 36,
   "source": [
    "#Loops through rows for df\n",
    "for i in tqdm(range(0, challenger_response_df.shape[0])):\n",
    "    summonerId = challenger_response_df[\"summonerId\"][i]\n",
    "    # do all the columns that are called TBD\n",
    "\n",
    "    cur.execute(f'''\n",
    "    INSERT INTO public.\"Users\"(\n",
    "\t    id, \"summonerName\", \"summonerId\", \"rankedLeague\", puuid, leaguepoints, region)\n",
    "\t    VALUES (DEFAULT, 'TBD', 'TBD', 'CHALLENGER', 'Temporary' 'TBD', {region})\n",
    "        WHERE \n",
    "        ''')\n",
    "\n",
    "    conn.commit()\n"
   ],
   "outputs": [
    {
     "output_type": "error",
     "ename": "KeyboardInterrupt",
     "evalue": "",
     "traceback": [
      "\u001b[0;31m---------------------------------------------------------------------------\u001b[0m",
      "\u001b[0;31mKeyboardInterrupt\u001b[0m                         Traceback (most recent call last)",
      "\u001b[0;32m/var/folders/8g/67y55mms29zf6yt6q92_3hsr0000gn/T/ipykernel_6998/404223289.py\u001b[0m in \u001b[0;36m<module>\u001b[0;34m\u001b[0m\n\u001b[1;32m      4\u001b[0m     \u001b[0;31m# do all the columns\u001b[0m\u001b[0;34m\u001b[0m\u001b[0;34m\u001b[0m\u001b[0;34m\u001b[0m\u001b[0m\n\u001b[1;32m      5\u001b[0m \u001b[0;34m\u001b[0m\u001b[0m\n\u001b[0;32m----> 6\u001b[0;31m     \u001b[0mtime\u001b[0m\u001b[0;34m.\u001b[0m\u001b[0msleep\u001b[0m\u001b[0;34m(\u001b[0m\u001b[0;36m2\u001b[0m\u001b[0;34m)\u001b[0m\u001b[0;34m\u001b[0m\u001b[0;34m\u001b[0m\u001b[0m\n\u001b[0m",
      "\u001b[0;31mKeyboardInterrupt\u001b[0m: "
     ]
    }
   ],
   "metadata": {}
  },
  {
   "cell_type": "code",
   "execution_count": 9,
   "source": [
    "#Use this cell to delete table data, although ID counter needs to be reset manually in Postgres\n",
    "cur.execute(f'''\n",
    "DELETE FROM public.\"Users\"\n",
    "''')"
   ],
   "outputs": [],
   "metadata": {}
  },
  {
   "cell_type": "code",
   "execution_count": 12,
   "source": [
    "conn.commit()"
   ],
   "outputs": [],
   "metadata": {}
  },
  {
   "cell_type": "markdown",
   "source": [
    "# Try...\n",
    "#Incorrect, then rollback transaction\n",
    "\n",
    "Commit or roll-back...\n",
    "\n",
    "for loop:\n",
    "take API and put into SQL \n",
    "Execute 1 person at a time...\n",
    "Validation of data type...\n",
    "\n",
    "psychopg to insert data into database"
   ],
   "metadata": {}
  }
 ],
 "metadata": {
  "orig_nbformat": 4,
  "language_info": {
   "name": "python",
   "version": "3.8.9",
   "mimetype": "text/x-python",
   "codemirror_mode": {
    "name": "ipython",
    "version": 3
   },
   "pygments_lexer": "ipython3",
   "nbconvert_exporter": "python",
   "file_extension": ".py"
  },
  "kernelspec": {
   "name": "python3",
   "display_name": "Python 3.8.9 64-bit ('venv': venv)"
  },
  "interpreter": {
   "hash": "326098e64a23633e3b8f78d5261f211cc8683bd8f017c750c8d4fce3da8abd9a"
  }
 },
 "nbformat": 4,
 "nbformat_minor": 2
}