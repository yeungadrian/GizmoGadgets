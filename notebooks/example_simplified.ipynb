{
 "cells": [
  {
   "cell_type": "markdown",
   "metadata": {},
   "source": [
    "# Project"
   ]
  },
  {
   "cell_type": "markdown",
   "metadata": {},
   "source": [
    "## Libraries"
   ]
  },
  {
   "cell_type": "code",
   "execution_count": null,
   "metadata": {},
   "outputs": [],
   "source": [
    "import requests\n",
    "import json\n",
    "import time\n",
    "import pandas as pd\n",
    "from tqdm import tqdm\n",
    "import psycopg2\n",
    "import yaml\n",
    "\n",
    "# from pydantic import BaseModel, ValidationError, validator (## for the future)"
   ]
  },
  {
   "cell_type": "markdown",
   "metadata": {},
   "source": [
    "## Riot Games API"
   ]
  },
  {
   "cell_type": "code",
   "execution_count": null,
   "metadata": {},
   "outputs": [],
   "source": [
    "with open(\"../config.yml\", \"r\") as ymlfile:\n",
    "    cfg = yaml.load(ymlfile)"
   ]
  },
  {
   "cell_type": "code",
   "execution_count": null,
   "metadata": {},
   "outputs": [],
   "source": [
    "api_key = cfg['riotgamesapi']['key']\n",
    "api_header = {\n",
    "    \"X-Riot-Token\": api_key\n",
    "}"
   ]
  },
  {
   "cell_type": "code",
   "execution_count": null,
   "metadata": {},
   "outputs": [],
   "source": [
    "region = 'euw1'"
   ]
  },
  {
   "cell_type": "code",
   "execution_count": null,
   "metadata": {},
   "outputs": [],
   "source": [
    "challenger_url = f'https://{region}.api.riotgames.com/tft/league/v1/challenger?api_key={api_key}'\n",
    "challenger_response = requests.get(url = challenger_url).json()"
   ]
  },
  {
   "cell_type": "code",
   "execution_count": null,
   "metadata": {},
   "outputs": [],
   "source": [
    "#Writes json response into a dataframe\n",
    "challenger_response_df = pd.DataFrame(challenger_response['entries'])\n"
   ]
  },
  {
   "cell_type": "code",
   "execution_count": null,
   "metadata": {},
   "outputs": [],
   "source": [
    "challenger_response_df"
   ]
  },
  {
   "cell_type": "code",
   "execution_count": null,
   "metadata": {},
   "outputs": [],
   "source": [
    "summonerId = challenger_response_df['summonerId'][10]\n",
    "puuid_url = f'https://euw1.api.riotgames.com/tft/summoner/v1/summoners/{summonerId}'\n"
   ]
  },
  {
   "cell_type": "code",
   "execution_count": null,
   "metadata": {},
   "outputs": [],
   "source": [
    "puuid_from_summoner = requests.get(puuid_url, headers=api_header).json()"
   ]
  },
  {
   "cell_type": "code",
   "execution_count": null,
   "metadata": {},
   "outputs": [],
   "source": [
    "puuid = puuid_from_summoner['puuid']"
   ]
  },
  {
   "cell_type": "code",
   "execution_count": null,
   "metadata": {},
   "outputs": [],
   "source": [
    "matchid_url = f'https://europe.api.riotgames.com/tft/match/v1/matches/by-puuid/{puuid}/ids?count=20'\n",
    "matchids = requests.get(matchid_url, headers=api_header).json()"
   ]
  },
  {
   "cell_type": "code",
   "execution_count": null,
   "metadata": {},
   "outputs": [],
   "source": [
    "matchid = matchids[0]"
   ]
  },
  {
   "cell_type": "code",
   "execution_count": null,
   "metadata": {},
   "outputs": [],
   "source": [
    "match_info_url = f'https://europe.api.riotgames.com/tft/match/v1/matches/{matchid}'\n",
    "match_info = requests.get(match_info_url, headers = api_header).json()"
   ]
  },
  {
   "cell_type": "markdown",
   "metadata": {},
   "source": [
    "1. Call the api for 1 match\n",
    "2. Insert into Match\n",
    "3. Get the Id, you inserted\n",
    "4. For the 8 players\n",
    "    - Insert into MatchInfo, with Id from the Match Table\n",
    "    - Get the id you inserted into the MatchInfo table\n",
    "    - Insert into MatchTraits\n",
    "    - Insert into MatchUnits"
   ]
  },
  {
   "cell_type": "markdown",
   "metadata": {},
   "source": [
    "## Postgresql Database"
   ]
  },
  {
   "cell_type": "code",
   "execution_count": null,
   "metadata": {},
   "outputs": [],
   "source": [
    "params = cfg['postgresql']\n",
    "# Connect to the PostgreSQL database\n",
    "conn = psycopg2.connect(**params, port = 5432)\n",
    "# Create a new cursor - A PostgreSQL database cursor is a read-only pointer that allows a program, regardless of the language used, to access the result set of a query. \n",
    "cur = conn.cursor()\n",
    "# A function that takes in a PostgreSQL query and outputs a pandas database "
   ]
  },
  {
   "cell_type": "code",
   "execution_count": null,
   "metadata": {},
   "outputs": [],
   "source": [
    "#Loops through rows for df\n",
    "for i in tqdm(range(0, challenger_response_df.shape[0])):\n",
    "    summonerId = challenger_response_df[\"summonerId\"][i]\n",
    "    # do all the columns that are called TBD\n",
    "\n",
    "    cur.execute(f'''\n",
    "    INSERT INTO public.\"Users\"(\n",
    "\t    id, \"summonerName\", \"summonerId\", \"rankedLeague\", puuid, leaguepoints, region)\n",
    "\t    VALUES (DEFAULT, 'TBD', 'TBD', 'CHALLENGER', 'Temporary', null, {region})\n",
    "        WHERE \n",
    "        ''')\n",
    "\n",
    "    conn.commit()"
   ]
  },
  {
   "cell_type": "code",
   "execution_count": null,
   "metadata": {},
   "outputs": [],
   "source": [
    "#Use this cell to delete table data, although ID counter needs to be reset manually in Postgres\n",
    "cur.execute(f'''\n",
    "DELETE FROM public.\"Users\"\n",
    "''')"
   ]
  },
  {
   "cell_type": "code",
   "execution_count": null,
   "metadata": {},
   "outputs": [],
   "source": [
    "conn.commit()"
   ]
  },
  {
   "cell_type": "markdown",
   "metadata": {},
   "source": [
    "# Try...\n",
    "#Incorrect, then rollback transaction\n",
    "\n",
    "Commit or roll-back...\n",
    "\n",
    "for loop:\n",
    "take API and put into SQL \n",
    "Execute 1 person at a time...\n",
    "Validation of data type...\n",
    "\n",
    "psychopg to insert data into database"
   ]
  },
  {
   "cell_type": "markdown",
   "metadata": {},
   "source": [
    "## Prefect"
   ]
  },
  {
   "cell_type": "code",
   "execution_count": null,
   "metadata": {},
   "outputs": [],
   "source": [
    "import prefect\n",
    "from prefect import task, Flow\n",
    "\n",
    "@task\n",
    "def hello_task():\n",
    "    logger = prefect.context.get(\"logger\")\n",
    "    logger.info(\"Hello world!\")\n",
    "\n",
    "with Flow(\"hello-flow\") as flow:\n",
    "    hello_task()\n",
    "\n",
    "flow.run()"
   ]
  },
  {
   "cell_type": "code",
   "execution_count": null,
   "metadata": {},
   "outputs": [],
   "source": [
    "from prefect import task\n",
    "\n",
    "@task\n",
    "def extract():\n",
    "    \"\"\"Get a list of data\"\"\"\n",
    "    return [1, 2, 3]\n",
    "\n",
    "@task\n",
    "def transform(data):\n",
    "    \"\"\"Multiply the input by 10\"\"\"\n",
    "    return [i * 10 for i in data]\n",
    "\n",
    "@task\n",
    "def load(data):\n",
    "    \"\"\"Print the data to indicate it was received\"\"\"\n",
    "    print(\"Here's your data: {}\".format(data))\n"
   ]
  },
  {
   "cell_type": "code",
   "execution_count": null,
   "metadata": {},
   "outputs": [],
   "source": [
    "from prefect import task, Flow, Parameter\n",
    "\n",
    "\n",
    "@task(log_stdout=True)\n",
    "def say_hello(name):\n",
    "    print(\"Hello, {}!\".format(name))\n",
    "\n",
    "\n",
    "with Flow(\"My First Flow\") as flow:\n",
    "    name = Parameter('name')\n",
    "    say_hello(name)\n",
    "\n",
    "\n",
    "flow.run(name='world') # \"Hello, world!\"\n",
    "flow.run(name='Marvin') # \"Hello, Marvin!\""
   ]
  }
 ],
 "metadata": {
  "interpreter": {
   "hash": "326098e64a23633e3b8f78d5261f211cc8683bd8f017c750c8d4fce3da8abd9a"
  },
  "kernelspec": {
   "display_name": "Python 3.8.9 64-bit ('venv': venv)",
   "name": "python3"
  },
  "language_info": {
   "codemirror_mode": {
    "name": "ipython",
    "version": 3
   },
   "file_extension": ".py",
   "mimetype": "text/x-python",
   "name": "python",
   "nbconvert_exporter": "python",
   "pygments_lexer": "ipython3",
   "version": "3.8.9"
  },
  "orig_nbformat": 4
 },
 "nbformat": 4,
 "nbformat_minor": 2
}
