{
 "cells": [
  {
   "cell_type": "markdown",
   "source": [
    "# Project"
   ],
   "metadata": {}
  },
  {
   "cell_type": "markdown",
   "source": [
    "## Libraries"
   ],
   "metadata": {}
  },
  {
   "cell_type": "code",
   "execution_count": 1,
   "source": [
    "import requests\n",
    "import json\n",
    "import time\n",
    "import pandas as pd\n",
    "from tqdm import tqdm\n",
    "import psycopg2\n",
    "import yaml\n",
    "\n",
    "# from pydantic import BaseModel, ValidationError, validator (## for the future)"
   ],
   "outputs": [
    {
     "output_type": "stream",
     "name": "stderr",
     "text": [
      "/Users/yeungadrian/Documents/repo/ML-Ops/venv/lib/python3.8/site-packages/pandas/compat/__init__.py:124: UserWarning: Could not import the lzma module. Your installed Python is incomplete. Attempting to use lzma compression will result in a RuntimeError.\n",
      "  warnings.warn(msg)\n"
     ]
    }
   ],
   "metadata": {}
  },
  {
   "cell_type": "markdown",
   "source": [
    "## Riot Games API"
   ],
   "metadata": {}
  },
  {
   "cell_type": "code",
   "execution_count": 2,
   "source": [
    "with open(\"../config.yml\", \"r\") as ymlfile:\n",
    "    cfg = yaml.load(ymlfile)"
   ],
   "outputs": [
    {
     "output_type": "stream",
     "name": "stderr",
     "text": [
      "/var/folders/8g/67y55mms29zf6yt6q92_3hsr0000gn/T/ipykernel_74366/1863735473.py:2: YAMLLoadWarning: calling yaml.load() without Loader=... is deprecated, as the default Loader is unsafe. Please read https://msg.pyyaml.org/load for full details.\n",
      "  cfg = yaml.load(ymlfile)\n"
     ]
    }
   ],
   "metadata": {}
  },
  {
   "cell_type": "code",
   "execution_count": 9,
   "source": [
    "api_key = cfg['riotgamesapi']['key']\n",
    "api_header = {\n",
    "    \"X-Riot-Token\": api_key\n",
    "}"
   ],
   "outputs": [],
   "metadata": {}
  },
  {
   "cell_type": "code",
   "execution_count": 4,
   "source": [
    "region = 'euw1'"
   ],
   "outputs": [],
   "metadata": {}
  },
  {
   "cell_type": "code",
   "execution_count": 5,
   "source": [
    "challenger_url = f'https://{region}.api.riotgames.com/tft/league/v1/challenger?api_key={api_key}'\n",
    "challenger_response = requests.get(url = challenger_url).json()"
   ],
   "outputs": [],
   "metadata": {}
  },
  {
   "cell_type": "code",
   "execution_count": 6,
   "source": [
    "#Writes json response into a dataframe\n",
    "challenger_response_df = pd.DataFrame(challenger_response['entries'])\n"
   ],
   "outputs": [],
   "metadata": {}
  },
  {
   "cell_type": "code",
   "execution_count": 7,
   "source": [
    "challenger_response_df"
   ],
   "outputs": [
    {
     "output_type": "execute_result",
     "data": {
      "text/html": [
       "<div>\n",
       "<style scoped>\n",
       "    .dataframe tbody tr th:only-of-type {\n",
       "        vertical-align: middle;\n",
       "    }\n",
       "\n",
       "    .dataframe tbody tr th {\n",
       "        vertical-align: top;\n",
       "    }\n",
       "\n",
       "    .dataframe thead th {\n",
       "        text-align: right;\n",
       "    }\n",
       "</style>\n",
       "<table border=\"1\" class=\"dataframe\">\n",
       "  <thead>\n",
       "    <tr style=\"text-align: right;\">\n",
       "      <th></th>\n",
       "      <th>summonerId</th>\n",
       "      <th>summonerName</th>\n",
       "      <th>leaguePoints</th>\n",
       "      <th>rank</th>\n",
       "      <th>wins</th>\n",
       "      <th>losses</th>\n",
       "      <th>veteran</th>\n",
       "      <th>inactive</th>\n",
       "      <th>freshBlood</th>\n",
       "      <th>hotStreak</th>\n",
       "    </tr>\n",
       "  </thead>\n",
       "  <tbody>\n",
       "    <tr>\n",
       "      <th>0</th>\n",
       "      <td>pQ0yVLGhdf0zmZ3fqJq_vYNRnGkj8wbmYzOdRbGcHAh84LUX</td>\n",
       "      <td>tftr1esok</td>\n",
       "      <td>842</td>\n",
       "      <td>I</td>\n",
       "      <td>38</td>\n",
       "      <td>220</td>\n",
       "      <td>False</td>\n",
       "      <td>False</td>\n",
       "      <td>False</td>\n",
       "      <td>False</td>\n",
       "    </tr>\n",
       "    <tr>\n",
       "      <th>1</th>\n",
       "      <td>jB6Is3aI6rWLwGznxJOJ_jWo_csRkNqXYj2t5v7Q2V03-BQ</td>\n",
       "      <td>20200603 lpl006</td>\n",
       "      <td>852</td>\n",
       "      <td>I</td>\n",
       "      <td>53</td>\n",
       "      <td>242</td>\n",
       "      <td>False</td>\n",
       "      <td>False</td>\n",
       "      <td>True</td>\n",
       "      <td>False</td>\n",
       "    </tr>\n",
       "    <tr>\n",
       "      <th>2</th>\n",
       "      <td>BBueamU-gTY463xq8mKeaEljzPGe_eu6do00OFG98Jt4le...</td>\n",
       "      <td>Gofret TFT</td>\n",
       "      <td>980</td>\n",
       "      <td>I</td>\n",
       "      <td>31</td>\n",
       "      <td>191</td>\n",
       "      <td>False</td>\n",
       "      <td>False</td>\n",
       "      <td>False</td>\n",
       "      <td>False</td>\n",
       "    </tr>\n",
       "    <tr>\n",
       "      <th>3</th>\n",
       "      <td>rPFMFDPZX7qUBha5wB6jEbaRxhGEZGUDiz_-0pFx7ObyVyE</td>\n",
       "      <td>NES Qetzer</td>\n",
       "      <td>1185</td>\n",
       "      <td>I</td>\n",
       "      <td>40</td>\n",
       "      <td>170</td>\n",
       "      <td>False</td>\n",
       "      <td>False</td>\n",
       "      <td>False</td>\n",
       "      <td>False</td>\n",
       "    </tr>\n",
       "    <tr>\n",
       "      <th>4</th>\n",
       "      <td>xJLsf7C13OrjkOBpbf9eDLYvVC4xZlhaJsGJ5f3H89djfj4</td>\n",
       "      <td>Binti</td>\n",
       "      <td>862</td>\n",
       "      <td>I</td>\n",
       "      <td>56</td>\n",
       "      <td>476</td>\n",
       "      <td>False</td>\n",
       "      <td>False</td>\n",
       "      <td>True</td>\n",
       "      <td>False</td>\n",
       "    </tr>\n",
       "    <tr>\n",
       "      <th>...</th>\n",
       "      <td>...</td>\n",
       "      <td>...</td>\n",
       "      <td>...</td>\n",
       "      <td>...</td>\n",
       "      <td>...</td>\n",
       "      <td>...</td>\n",
       "      <td>...</td>\n",
       "      <td>...</td>\n",
       "      <td>...</td>\n",
       "      <td>...</td>\n",
       "    </tr>\n",
       "    <tr>\n",
       "      <th>195</th>\n",
       "      <td>f1A5Ca1jW32m0C0zzPkI3vmgnczNkT9hWJB1v-1IlgNDBto</td>\n",
       "      <td>huya GoDlike</td>\n",
       "      <td>887</td>\n",
       "      <td>I</td>\n",
       "      <td>56</td>\n",
       "      <td>250</td>\n",
       "      <td>False</td>\n",
       "      <td>False</td>\n",
       "      <td>True</td>\n",
       "      <td>False</td>\n",
       "    </tr>\n",
       "    <tr>\n",
       "      <th>196</th>\n",
       "      <td>jM1pT4Pozzs5k1ojgDblcmbo5M8lCsSqSa1WqwpHbmjrzJwN</td>\n",
       "      <td>JR70 Piechu</td>\n",
       "      <td>1129</td>\n",
       "      <td>I</td>\n",
       "      <td>48</td>\n",
       "      <td>327</td>\n",
       "      <td>True</td>\n",
       "      <td>False</td>\n",
       "      <td>False</td>\n",
       "      <td>False</td>\n",
       "    </tr>\n",
       "    <tr>\n",
       "      <th>197</th>\n",
       "      <td>PxGBPFGbeK3ZadtEk6WHoLlvk_bBnFyZB7gKESZcUmJnluyk</td>\n",
       "      <td>ARMA ACKK</td>\n",
       "      <td>1658</td>\n",
       "      <td>I</td>\n",
       "      <td>70</td>\n",
       "      <td>275</td>\n",
       "      <td>True</td>\n",
       "      <td>False</td>\n",
       "      <td>False</td>\n",
       "      <td>False</td>\n",
       "    </tr>\n",
       "    <tr>\n",
       "      <th>198</th>\n",
       "      <td>ApjyM70MczBu_we5EgTJt6_jShCOKz2sm0TT08chtogLG64</td>\n",
       "      <td>SeyRo</td>\n",
       "      <td>879</td>\n",
       "      <td>I</td>\n",
       "      <td>30</td>\n",
       "      <td>162</td>\n",
       "      <td>False</td>\n",
       "      <td>False</td>\n",
       "      <td>True</td>\n",
       "      <td>False</td>\n",
       "    </tr>\n",
       "    <tr>\n",
       "      <th>199</th>\n",
       "      <td>6B6erCXqd34EHGqurkL39lyUflPmzUbz5LbxOzbtEKsC_siK</td>\n",
       "      <td>Magarky</td>\n",
       "      <td>1120</td>\n",
       "      <td>I</td>\n",
       "      <td>122</td>\n",
       "      <td>556</td>\n",
       "      <td>False</td>\n",
       "      <td>False</td>\n",
       "      <td>False</td>\n",
       "      <td>False</td>\n",
       "    </tr>\n",
       "  </tbody>\n",
       "</table>\n",
       "<p>200 rows × 10 columns</p>\n",
       "</div>"
      ],
      "text/plain": [
       "                                            summonerId     summonerName  \\\n",
       "0     pQ0yVLGhdf0zmZ3fqJq_vYNRnGkj8wbmYzOdRbGcHAh84LUX        tftr1esok   \n",
       "1      jB6Is3aI6rWLwGznxJOJ_jWo_csRkNqXYj2t5v7Q2V03-BQ  20200603 lpl006   \n",
       "2    BBueamU-gTY463xq8mKeaEljzPGe_eu6do00OFG98Jt4le...       Gofret TFT   \n",
       "3      rPFMFDPZX7qUBha5wB6jEbaRxhGEZGUDiz_-0pFx7ObyVyE       NES Qetzer   \n",
       "4      xJLsf7C13OrjkOBpbf9eDLYvVC4xZlhaJsGJ5f3H89djfj4            Binti   \n",
       "..                                                 ...              ...   \n",
       "195    f1A5Ca1jW32m0C0zzPkI3vmgnczNkT9hWJB1v-1IlgNDBto     huya GoDlike   \n",
       "196   jM1pT4Pozzs5k1ojgDblcmbo5M8lCsSqSa1WqwpHbmjrzJwN      JR70 Piechu   \n",
       "197   PxGBPFGbeK3ZadtEk6WHoLlvk_bBnFyZB7gKESZcUmJnluyk        ARMA ACKK   \n",
       "198    ApjyM70MczBu_we5EgTJt6_jShCOKz2sm0TT08chtogLG64            SeyRo   \n",
       "199   6B6erCXqd34EHGqurkL39lyUflPmzUbz5LbxOzbtEKsC_siK          Magarky   \n",
       "\n",
       "     leaguePoints rank  wins  losses  veteran  inactive  freshBlood  hotStreak  \n",
       "0             842    I    38     220    False     False       False      False  \n",
       "1             852    I    53     242    False     False        True      False  \n",
       "2             980    I    31     191    False     False       False      False  \n",
       "3            1185    I    40     170    False     False       False      False  \n",
       "4             862    I    56     476    False     False        True      False  \n",
       "..            ...  ...   ...     ...      ...       ...         ...        ...  \n",
       "195           887    I    56     250    False     False        True      False  \n",
       "196          1129    I    48     327     True     False       False      False  \n",
       "197          1658    I    70     275     True     False       False      False  \n",
       "198           879    I    30     162    False     False        True      False  \n",
       "199          1120    I   122     556    False     False       False      False  \n",
       "\n",
       "[200 rows x 10 columns]"
      ]
     },
     "metadata": {},
     "execution_count": 7
    }
   ],
   "metadata": {}
  },
  {
   "cell_type": "code",
   "execution_count": 8,
   "source": [
    "summonerId = challenger_response_df['summonerId'][10]\n",
    "puuid_url = f'https://euw1.api.riotgames.com/tft/summoner/v1/summoners/{summonerId}'\n"
   ],
   "outputs": [],
   "metadata": {}
  },
  {
   "cell_type": "code",
   "execution_count": 13,
   "source": [
    "puuid_from_summoner = requests.get(puuid_url, headers=api_header).json()"
   ],
   "outputs": [],
   "metadata": {}
  },
  {
   "cell_type": "code",
   "execution_count": 15,
   "source": [
    "puuid = puuid_from_summoner['puuid']"
   ],
   "outputs": [],
   "metadata": {}
  },
  {
   "cell_type": "code",
   "execution_count": 23,
   "source": [
    "matchid_url = f'https://europe.api.riotgames.com/tft/match/v1/matches/by-puuid/{puuid}/ids?count=20'\n",
    "matchids = requests.get(matchid_url, headers=api_header).json()"
   ],
   "outputs": [],
   "metadata": {}
  },
  {
   "cell_type": "code",
   "execution_count": 32,
   "source": [
    "matchid = matchids[0]"
   ],
   "outputs": [],
   "metadata": {}
  },
  {
   "cell_type": "code",
   "execution_count": 33,
   "source": [
    "match_info_url = f'https://europe.api.riotgames.com/tft/match/v1/matches/{matchid}'\n",
    "match_info = requests.get(match_info_url, headers = api_header).json()"
   ],
   "outputs": [],
   "metadata": {}
  },
  {
   "cell_type": "markdown",
   "source": [
    "1. Call the api for 1 match\n",
    "2. Insert into Match\n",
    "3. Get the Id, you inserted\n",
    "4. For the 8 players\n",
    "    - Insert into MatchInfo, with Id from the Match Table\n",
    "    - Get the id you inserted into the MatchInfo table\n",
    "    - Insert into MatchTraits\n",
    "    - Insert into MatchUnits"
   ],
   "metadata": {}
  },
  {
   "cell_type": "markdown",
   "source": [
    "## Postgresql Database"
   ],
   "metadata": {}
  },
  {
   "cell_type": "code",
   "execution_count": 4,
   "source": [
    "params = cfg['postgresql']\n",
    "# Connect to the PostgreSQL database\n",
    "conn = psycopg2.connect(**params, port = 5432)\n",
    "# Create a new cursor - A PostgreSQL database cursor is a read-only pointer that allows a program, regardless of the language used, to access the result set of a query. \n",
    "cur = conn.cursor()\n",
    "# A function that takes in a PostgreSQL query and outputs a pandas database "
   ],
   "outputs": [],
   "metadata": {}
  },
  {
   "cell_type": "code",
   "execution_count": 36,
   "source": [
    "#Loops through rows for df\n",
    "for i in tqdm(range(0, challenger_response_df.shape[0])):\n",
    "    summonerId = challenger_response_df[\"summonerId\"][i]\n",
    "    # do all the columns that are called TBD\n",
    "\n",
    "    cur.execute(f'''\n",
    "    INSERT INTO public.\"Users\"(\n",
    "\t    id, \"summonerName\", \"summonerId\", \"rankedLeague\", puuid, leaguepoints, region)\n",
    "\t    VALUES (DEFAULT, 'TBD', 'TBD', 'CHALLENGER', 'Temporary', null, {region})\n",
    "        WHERE \n",
    "        ''')\n",
    "\n",
    "    conn.commit()"
   ],
   "outputs": [
    {
     "output_type": "error",
     "ename": "KeyboardInterrupt",
     "evalue": "",
     "traceback": [
      "\u001b[0;31m---------------------------------------------------------------------------\u001b[0m",
      "\u001b[0;31mKeyboardInterrupt\u001b[0m                         Traceback (most recent call last)",
      "\u001b[0;32m/var/folders/8g/67y55mms29zf6yt6q92_3hsr0000gn/T/ipykernel_6998/404223289.py\u001b[0m in \u001b[0;36m<module>\u001b[0;34m\u001b[0m\n\u001b[1;32m      4\u001b[0m     \u001b[0;31m# do all the columns\u001b[0m\u001b[0;34m\u001b[0m\u001b[0;34m\u001b[0m\u001b[0;34m\u001b[0m\u001b[0m\n\u001b[1;32m      5\u001b[0m \u001b[0;34m\u001b[0m\u001b[0m\n\u001b[0;32m----> 6\u001b[0;31m     \u001b[0mtime\u001b[0m\u001b[0;34m.\u001b[0m\u001b[0msleep\u001b[0m\u001b[0;34m(\u001b[0m\u001b[0;36m2\u001b[0m\u001b[0;34m)\u001b[0m\u001b[0;34m\u001b[0m\u001b[0;34m\u001b[0m\u001b[0m\n\u001b[0m",
      "\u001b[0;31mKeyboardInterrupt\u001b[0m: "
     ]
    }
   ],
   "metadata": {}
  },
  {
   "cell_type": "code",
   "execution_count": 9,
   "source": [
    "#Use this cell to delete table data, although ID counter needs to be reset manually in Postgres\n",
    "cur.execute(f'''\n",
    "DELETE FROM public.\"Users\"\n",
    "''')"
   ],
   "outputs": [],
   "metadata": {}
  },
  {
   "cell_type": "code",
   "execution_count": 12,
   "source": [
    "conn.commit()"
   ],
   "outputs": [],
   "metadata": {}
  },
  {
   "cell_type": "markdown",
   "source": [
    "# Try...\n",
    "#Incorrect, then rollback transaction\n",
    "\n",
    "Commit or roll-back...\n",
    "\n",
    "for loop:\n",
    "take API and put into SQL \n",
    "Execute 1 person at a time...\n",
    "Validation of data type...\n",
    "\n",
    "psychopg to insert data into database"
   ],
   "metadata": {}
  },
  {
   "cell_type": "markdown",
   "source": [
    "## Prefect"
   ],
   "metadata": {}
  },
  {
   "cell_type": "code",
   "execution_count": 13,
   "source": [
    "import prefect\n",
    "from prefect import task, Flow\n",
    "\n",
    "@task\n",
    "def hello_task():\n",
    "    logger = prefect.context.get(\"logger\")\n",
    "    logger.info(\"Hello world!\")\n",
    "\n",
    "with Flow(\"hello-flow\") as flow:\n",
    "    hello_task()\n",
    "\n",
    "flow.run()"
   ],
   "outputs": [
    {
     "output_type": "stream",
     "name": "stdout",
     "text": [
      "[2021-09-29 22:06:01+0100] INFO - prefect.FlowRunner | Beginning Flow run for 'hello-flow'\n",
      "[2021-09-29 22:06:01+0100] INFO - prefect.TaskRunner | Task 'hello_task': Starting task run...\n",
      "[2021-09-29 22:06:01+0100] INFO - prefect.hello_task | Hello world!\n",
      "[2021-09-29 22:06:01+0100] INFO - prefect.TaskRunner | Task 'hello_task': Finished task run for task with final state: 'Success'\n",
      "[2021-09-29 22:06:01+0100] INFO - prefect.FlowRunner | Flow run SUCCESS: all reference tasks succeeded\n"
     ]
    },
    {
     "output_type": "execute_result",
     "data": {
      "text/plain": [
       "<Success: \"All reference tasks succeeded.\">"
      ]
     },
     "metadata": {},
     "execution_count": 13
    }
   ],
   "metadata": {}
  },
  {
   "cell_type": "code",
   "execution_count": 14,
   "source": [
    "from prefect import task\n",
    "\n",
    "@task\n",
    "def extract():\n",
    "    \"\"\"Get a list of data\"\"\"\n",
    "    return [1, 2, 3]\n",
    "\n",
    "@task\n",
    "def transform(data):\n",
    "    \"\"\"Multiply the input by 10\"\"\"\n",
    "    return [i * 10 for i in data]\n",
    "\n",
    "@task\n",
    "def load(data):\n",
    "    \"\"\"Print the data to indicate it was received\"\"\"\n",
    "    print(\"Here's your data: {}\".format(data))\n"
   ],
   "outputs": [],
   "metadata": {}
  },
  {
   "cell_type": "code",
   "execution_count": 20,
   "source": [
    "from prefect import task, Flow, Parameter\n",
    "\n",
    "\n",
    "@task(log_stdout=True)\n",
    "def say_hello(name):\n",
    "    print(\"Hello, {}!\".format(name))\n",
    "\n",
    "\n",
    "with Flow(\"My First Flow\") as flow:\n",
    "    name = Parameter('name')\n",
    "    say_hello(name)\n",
    "\n",
    "\n",
    "flow.run(name='world') # \"Hello, world!\"\n",
    "flow.run(name='Marvin') # \"Hello, Marvin!\""
   ],
   "outputs": [
    {
     "output_type": "stream",
     "name": "stdout",
     "text": [
      "[2021-09-29 22:15:05+0100] INFO - prefect.FlowRunner | Beginning Flow run for 'My First Flow'\n",
      "[2021-09-29 22:15:05+0100] INFO - prefect.TaskRunner | Task 'name': Starting task run...\n",
      "[2021-09-29 22:15:05+0100] INFO - prefect.TaskRunner | Task 'name': Finished task run for task with final state: 'Success'\n",
      "[2021-09-29 22:15:05+0100] INFO - prefect.TaskRunner | Task 'say_hello': Starting task run...\n",
      "[2021-09-29 22:15:05+0100] INFO - prefect.TaskRunner | Hello, world!\n",
      "[2021-09-29 22:15:05+0100] INFO - prefect.TaskRunner | Task 'say_hello': Finished task run for task with final state: 'Success'\n",
      "[2021-09-29 22:15:05+0100] INFO - prefect.FlowRunner | Flow run SUCCESS: all reference tasks succeeded\n",
      "[2021-09-29 22:15:05+0100] INFO - prefect.FlowRunner | Beginning Flow run for 'My First Flow'\n",
      "[2021-09-29 22:15:05+0100] INFO - prefect.TaskRunner | Task 'name': Starting task run...\n",
      "[2021-09-29 22:15:05+0100] INFO - prefect.TaskRunner | Task 'name': Finished task run for task with final state: 'Success'\n",
      "[2021-09-29 22:15:06+0100] INFO - prefect.TaskRunner | Task 'say_hello': Starting task run...\n",
      "[2021-09-29 22:15:06+0100] INFO - prefect.TaskRunner | Hello, Marvin!\n",
      "[2021-09-29 22:15:06+0100] INFO - prefect.TaskRunner | Task 'say_hello': Finished task run for task with final state: 'Success'\n",
      "[2021-09-29 22:15:06+0100] INFO - prefect.FlowRunner | Flow run SUCCESS: all reference tasks succeeded\n"
     ]
    },
    {
     "output_type": "execute_result",
     "data": {
      "text/plain": [
       "<Success: \"All reference tasks succeeded.\">"
      ]
     },
     "metadata": {},
     "execution_count": 20
    }
   ],
   "metadata": {}
  },
  {
   "cell_type": "code",
   "execution_count": null,
   "source": [],
   "outputs": [],
   "metadata": {}
  }
 ],
 "metadata": {
  "orig_nbformat": 4,
  "language_info": {
   "name": "python",
   "version": "3.8.9",
   "mimetype": "text/x-python",
   "codemirror_mode": {
    "name": "ipython",
    "version": 3
   },
   "pygments_lexer": "ipython3",
   "nbconvert_exporter": "python",
   "file_extension": ".py"
  },
  "kernelspec": {
   "name": "python3",
   "display_name": "Python 3.8.9 64-bit ('venv': venv)"
  },
  "interpreter": {
   "hash": "326098e64a23633e3b8f78d5261f211cc8683bd8f017c750c8d4fce3da8abd9a"
  }
 },
 "nbformat": 4,
 "nbformat_minor": 2
}