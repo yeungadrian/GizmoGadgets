{
 "cells": [
  {
   "cell_type": "markdown",
   "source": [
    "## Prefect"
   ],
   "metadata": {}
  },
  {
   "cell_type": "code",
   "execution_count": 1,
   "source": [
    "from prefect import task, Flow\n",
    "from prefect.tasks.secrets import PrefectSecret\n",
    "from datetime import timedelta\n",
    "from prefect.schedules import IntervalSchedule\n",
    "from prefect.client import Secret"
   ],
   "outputs": [],
   "metadata": {}
  },
  {
   "cell_type": "code",
   "execution_count": 3,
   "source": [
    "# Load the value of `MYSECRET`\n",
    "my_secret_value = Secret(\"USERNAME\").get()"
   ],
   "outputs": [],
   "metadata": {}
  },
  {
   "cell_type": "markdown",
   "source": [],
   "metadata": {}
  }
 ],
 "metadata": {
  "orig_nbformat": 4,
  "language_info": {
   "name": "python",
   "version": "3.8.9",
   "mimetype": "text/x-python",
   "codemirror_mode": {
    "name": "ipython",
    "version": 3
   },
   "pygments_lexer": "ipython3",
   "nbconvert_exporter": "python",
   "file_extension": ".py"
  },
  "kernelspec": {
   "name": "python3",
   "display_name": "Python 3.8.9 64-bit ('venv': venv)"
  },
  "interpreter": {
   "hash": "326098e64a23633e3b8f78d5261f211cc8683bd8f017c750c8d4fce3da8abd9a"
  }
 },
 "nbformat": 4,
 "nbformat_minor": 2
}