{
 "cells": [
  {
   "cell_type": "markdown",
   "source": [
    "## Prefect"
   ],
   "metadata": {}
  },
  {
   "cell_type": "code",
   "execution_count": 15,
   "source": [
    "from prefect import task, Flow\n",
    "from prefect.tasks.secrets import PrefectSecret\n",
    "from datetime import timedelta\n",
    "from prefect.schedules import IntervalSchedule\n",
    "import psycopg2 as pg\n",
    "import requests\n",
    "import pandas as pd"
   ],
   "outputs": [],
   "metadata": {}
  },
  {
   "cell_type": "code",
   "execution_count": 16,
   "source": [
    "@task\n",
    "def my_task(username, password, db_name, api_key):\n",
    "    \"\"\"A task that requires credentials to access something. Passing the\n",
    "    credentials in as an argument allows you to change how/where the\n",
    "    credentials are loaded (though we recommend using `PrefectSecret` tasks to\n",
    "    load them.\"\"\"\n",
    "    challenger_url = f'https://euw1.api.riotgames.com/tft/league/v1/challenger?api_key={api_key}'\n",
    "    challenger_response = requests.get(url = challenger_url).json()\n",
    "\n",
    "    challenger_response_df = pd.DataFrame(challenger_response['entries'])\n",
    "\n",
    "\n",
    "    for i in range(0, challenger_response_df.shape[0]):\n",
    "        summonerId = challenger_response_df[\"summonerId\"][i]\n",
    "        summonerName = challenger_response_df[\"summonerName\"][i]\n",
    "        leaguePoints = challenger_response_df[\"leaguePoints\"][i]\n",
    "\n",
    "        conn = pg.connect(\n",
    "            dbname=db_name,\n",
    "            user=username,\n",
    "            password=password,\n",
    "            host = '127.0.0.1'\n",
    "        )\n",
    "\n",
    "        query = f'''\n",
    "            INSERT INTO public.\"Users\"(\n",
    "                id, \"summonerName\", \"summonerId\", \"rankedLeague\", puuid, leaguepoints, region)\n",
    "                VALUES (DEFAULT, '{summonerName}', '{summonerId}', 'CHALLENGER', 'Temporary', {leaguePoints} , 'EUW1')\n",
    "                '''\n",
    "\n",
    "\n",
    "        with conn.cursor() as cursor:\n",
    "            cursor.execute(query=query)\n",
    "            conn.commit()\n",
    "\n",
    "        # ensure connection is closed\n",
    "        conn.close()\n",
    "    #Loops through rows for df"
   ],
   "outputs": [],
   "metadata": {}
  },
  {
   "cell_type": "code",
   "execution_count": null,
   "source": [
    "with Flow(\"Hello\") as flow:\n",
    "    username = PrefectSecret(\"USERNAME\")\n",
    "    password = PrefectSecret(\"PASSWORD\")\n",
    "    dbname= 'teamfighttactics' \n",
    "    my_task(username = username, password = password,db_name = dbname, api_key = api_key )\n",
    "\n",
    "flow.run()"
   ],
   "outputs": [],
   "metadata": {}
  },
  {
   "cell_type": "markdown",
   "source": [],
   "metadata": {}
  }
 ],
 "metadata": {
  "orig_nbformat": 4,
  "language_info": {
   "name": "python",
   "version": "3.8.9",
   "mimetype": "text/x-python",
   "codemirror_mode": {
    "name": "ipython",
    "version": 3
   },
   "pygments_lexer": "ipython3",
   "nbconvert_exporter": "python",
   "file_extension": ".py"
  },
  "kernelspec": {
   "name": "python3",
   "display_name": "Python 3.8.9 64-bit ('venv': venv)"
  },
  "interpreter": {
   "hash": "326098e64a23633e3b8f78d5261f211cc8683bd8f017c750c8d4fce3da8abd9a"
  }
 },
 "nbformat": 4,
 "nbformat_minor": 2
}