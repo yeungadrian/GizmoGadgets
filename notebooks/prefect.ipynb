{
 "cells": [
  {
   "cell_type": "markdown",
   "metadata": {},
   "source": [
    "## Prefect"
   ]
  },
  {
   "cell_type": "code",
   "execution_count": 59,
   "metadata": {},
   "outputs": [],
   "source": [
    "from prefect import task, Flow\n",
    "from prefect.tasks.secrets import PrefectSecret\n",
    "from prefect.tasks.postgres import PostgresExecute, PostgresFetch\n",
    "import requests\n",
    "import time\n",
    "import yaml\n",
    "import requests"
   ]
  },
  {
   "cell_type": "code",
   "execution_count": 60,
   "metadata": {},
   "outputs": [
    {
     "name": "stderr",
     "output_type": "stream",
     "text": [
      "/var/folders/8g/67y55mms29zf6yt6q92_3hsr0000gn/T/ipykernel_86021/2003926877.py:2: YAMLLoadWarning: calling yaml.load() without Loader=... is deprecated, as the default Loader is unsafe. Please read https://msg.pyyaml.org/load for full details.\n",
      "  cfg = yaml.load(ymlfile)\n"
     ]
    }
   ],
   "source": [
    "with open(\"../config.yml\", \"r\") as ymlfile:\n",
    "    cfg = yaml.load(ymlfile)\n",
    "api_key = cfg['riotgamesapi']['key']\n",
    "username = cfg['postgresql']['user']\n",
    "password = cfg['postgresql']['password']\n",
    "database = 'teamfighttactics'"
   ]
  },
  {
   "cell_type": "code",
   "execution_count": 64,
   "metadata": {},
   "outputs": [],
   "source": [
    "def get_users_from_league(league,password, riot_header, args):\n",
    "    league_url = f\"https://euw1.api.riotgames.com/tft/league/v1/{league}\"\n",
    "    league_response = requests.get(url=league_url, headers=riot_header).json()\n",
    "    time.sleep(2)\n",
    "    tier = league_response[\"tier\"]\n",
    "    for i in league_response[\"entries\"]:\n",
    "        summonerId = i[\"summonerId\"]\n",
    "        summonerName = i[\"summonerName\"]\n",
    "        leaguePoints = i[\"leaguePoints\"]\n",
    "\n",
    "        puuid_url = (\n",
    "            f\"https://euw1.api.riotgames.com/tft/summoner/v1/summoners/{summonerId}\"\n",
    "        )\n",
    "        puuid_response = requests.get(url=puuid_url, headers=riot_header).json()\n",
    "        time.sleep(2)\n",
    "        puuid = str(puuid_response[\"puuid\"])\n",
    "\n",
    "        user_query = \"\"\"\n",
    "            INSERT INTO public.users(\n",
    "                id, summonername, summonerid, rankedleague, puuid, leaguepoints, region)\n",
    "                VALUES (DEFAULT, %s, %s, %s, %s, %s , 'EUW1')\n",
    "                \"\"\"\n",
    "\n",
    "        query_data = (\n",
    "            summonerName,\n",
    "            summonerId,\n",
    "            tier,\n",
    "            puuid,\n",
    "            leaguePoints,\n",
    "        )\n",
    "\n",
    "        PostgresExecute(query=user_query, data=query_data, **args).run(\n",
    "            password=password\n",
    "        )\n",
    "\n",
    "\n",
    "@task\n",
    "def get_challenger_users(username, password, db_name, api_key):\n",
    "    \"\"\"A task that requires credentials to access something. Passing the\n",
    "    credentials in as an argument allows you to change how/where the\n",
    "    credentials are loaded (though we recommend using `PrefectSecret` tasks to\n",
    "    load them.\"\"\"\n",
    "\n",
    "    riot_header = {\"X-Riot-Token\": api_key}\n",
    "\n",
    "    args = {\n",
    "        \"db_name\": db_name,\n",
    "        \"user\": username,\n",
    "        \"host\": \"127.0.0.1\",\n",
    "        \"port\": 5432,\n",
    "        \"commit\": True,\n",
    "    }\n",
    "\n",
    "    get_users_from_league(league=\"challenger\", password=password, riot_header=riot_header, args=args)\n",
    "\n",
    "@task\n",
    "def get_grandmaster_users(username, password, db_name, api_key):\n",
    "\n",
    "    riot_header = {\"X-Riot-Token\": api_key}\n",
    "\n",
    "    args = {\n",
    "        \"db_name\": db_name,\n",
    "        \"user\": username,\n",
    "        \"host\": \"127.0.0.1\",\n",
    "        \"port\": 5432,\n",
    "        \"commit\": True,\n",
    "    }\n",
    "\n",
    "    get_users_from_league(league=\"grandmaster\", password=password, riot_header=riot_header, args=args)"
   ]
  },
  {
   "cell_type": "code",
   "execution_count": 65,
   "metadata": {},
   "outputs": [
    {
     "name": "stdout",
     "output_type": "stream",
     "text": [
      "[2021-10-30 11:31:31+0100] INFO - prefect.FlowRunner | Beginning Flow run for 'Get Grandmaster Summoners'\n",
      "[2021-10-30 11:31:31+0100] INFO - prefect.TaskRunner | Task 'USERNAME': Starting task run...\n",
      "[2021-10-30 11:31:31+0100] INFO - prefect.TaskRunner | Task 'USERNAME': Finished task run for task with final state: 'Success'\n",
      "[2021-10-30 11:31:31+0100] INFO - prefect.TaskRunner | Task 'PASSWORD': Starting task run...\n",
      "[2021-10-30 11:31:31+0100] INFO - prefect.TaskRunner | Task 'PASSWORD': Finished task run for task with final state: 'Success'\n",
      "[2021-10-30 11:31:31+0100] INFO - prefect.TaskRunner | Task 'get_grandmaster_users': Starting task run...\n",
      "[2021-10-30 11:46:27+0100] INFO - prefect.TaskRunner | Task 'get_grandmaster_users': Finished task run for task with final state: 'Success'\n",
      "[2021-10-30 11:46:27+0100] INFO - prefect.FlowRunner | Flow run SUCCESS: all reference tasks succeeded\n"
     ]
    },
    {
     "data": {
      "text/plain": [
       "<Success: \"All reference tasks succeeded.\">"
      ]
     },
     "execution_count": 65,
     "metadata": {},
     "output_type": "execute_result"
    }
   ],
   "source": [
    "with Flow(\"Get Grandmaster Summoners\") as flow:\n",
    "    username = PrefectSecret(\"USERNAME\")\n",
    "    password = PrefectSecret(\"PASSWORD\")\n",
    "    api_key = cfg['riotgamesapi']['key']\n",
    "    dbname = \"teamfighttactics\"\n",
    "    get_grandmaster_users(\n",
    "        username=username, password=password, db_name=dbname, api_key=api_key\n",
    "    )\n",
    "\n",
    "flow.run()"
   ]
  },
  {
   "cell_type": "code",
   "execution_count": 80,
   "metadata": {},
   "outputs": [],
   "source": [
    "def get__recent_match_history(puuid, password, riot_header, args):\n",
    "    match_id_url = f\"https://europe.api.riotgames.com/tft/match/v1/matches/by-puuid/{puuid}/ids?count=5\"\n",
    "    recent_match_ids = requests.get(url=match_id_url, headers=riot_header).json()\n",
    "    time.sleep(2)\n",
    "\n",
    "    match_id_query = \"SELECT matchid FROM matchinfo WHERE matchid = ANY(%s);\"\n",
    "    match_id_data = (recent_match_ids,)\n",
    "    existing_ids = PostgresFetch(\n",
    "        query=match_id_query, data=match_id_data, fetch=\"all\", **args\n",
    "    ).run(password=password)\n",
    "\n",
    "    existing_ids = [i[0] for i in existing_ids]\n",
    "    new_matches = set(recent_match_ids).symmetric_difference(set(existing_ids))\n",
    "    new_matches = list(new_matches)\n",
    "\n",
    "    for match_id in new_matches:\n",
    "        match_detail_url = (\n",
    "            f\"https://europe.api.riotgames.com/tft/match/v1/matches/{match_id}\"\n",
    "        )\n",
    "        time.sleep(3)\n",
    "\n",
    "        match_detail = requests.get(match_detail_url, headers=riot_header)\n",
    "        match_detail = match_detail.json()\n",
    "\n",
    "        for participant in match_detail[\"info\"][\"participants\"]:\n",
    "\n",
    "            user_id = participant['puuid']\n",
    "\n",
    "            match_query = \"\"\"\n",
    "                INSERT INTO matchinfo VALUES (DEFAULT,%s,%s,%s)\n",
    "                \"\"\"\n",
    "\n",
    "            match_data = (\n",
    "                match_id,\n",
    "                user_id,\n",
    "                participant[\"placement\"],\n",
    "            )\n",
    "\n",
    "            PostgresExecute(query=match_query, data=match_data, **args).run(\n",
    "                password=password\n",
    "            )\n",
    "\n",
    "            participant_query = \"\"\"\n",
    "                SELECT id FROM matchinfo WHERE userid = %s and matchid = %s\n",
    "                \"\"\"\n",
    "\n",
    "            participant_data = (user_id, match_id,)\n",
    "\n",
    "            match_data_id = PostgresFetch(\n",
    "                query=participant_query, data=participant_data, fetch=\"one\", **args\n",
    "            ).run(password=password)\n",
    "\n",
    "            for units in participant['units']:\n",
    "                character_id = units['character_id']\n",
    "                tier = units['tier']\n",
    "                items = units['items']\n",
    "                item1 =  items[0] if len(items)>0 else None\n",
    "                item2 = items[1] if len(items)>1 else None\n",
    "                item3 = items[1] if len(items)>2 else None\n",
    "\n",
    "            unit_query = \"\"\"\n",
    "                INSERT INTO matchunits VALUES (%s,%s,%s,%s,%s,%s)\n",
    "                \"\"\"\n",
    "            unit_data = (match_data_id, character_id, tier, item1, item2, item3,)\n",
    "\n",
    "            PostgresExecute(query=unit_query, data=unit_data, **args).run(\n",
    "                password=password\n",
    "            )\n",
    "\n",
    "@task\n",
    "def update_challenger_matches(username, password, db_name, api_key):\n",
    "    \"\"\"A task that requires credentials to access something. Passing the\n",
    "    credentials in as an argument allows you to change how/where the\n",
    "    credentials are loaded (though we recommend using `PrefectSecret` tasks to\n",
    "    load them.\"\"\"\n",
    "\n",
    "    riot_header = {\"X-Riot-Token\": api_key}\n",
    "\n",
    "    args = {\n",
    "        \"db_name\": db_name,\n",
    "        \"user\": username,\n",
    "        \"host\": \"127.0.0.1\",\n",
    "        \"port\": 5432,\n",
    "        \"commit\": True,\n",
    "    }\n",
    "\n",
    "    user_query = '''SELECT puuid FROM users WHERE rankedleague = 'CHALLENGER' LIMIT 5 '''\n",
    "\n",
    "    all_puuids = PostgresFetch(query=user_query, data=None, fetch=\"all\", **args).run(\n",
    "        password=password\n",
    "    )\n",
    "\n",
    "    for puuid in all_puuids:\n",
    "        get__recent_match_history(puuid=puuid[0],password = password, riot_header=riot_header, args=args)\n",
    "        \n",
    "@task\n",
    "def update_grandmaster_matches(username, password, db_name, api_key):\n",
    "    \"\"\"A task that requires credentials to access something. Passing the\n",
    "    credentials in as an argument allows you to change how/where the\n",
    "    credentials are loaded (though we recommend using `PrefectSecret` tasks to\n",
    "    load them.\"\"\"\n",
    "\n",
    "    riot_header = {\"X-Riot-Token\": api_key}\n",
    "\n",
    "    args = {\n",
    "        \"db_name\": db_name,\n",
    "        \"user\": username,\n",
    "        \"host\": \"127.0.0.1\",\n",
    "        \"port\": 5432,\n",
    "        \"commit\": True,\n",
    "    }\n",
    "\n",
    "    user_query = '''SELECT puuid FROM users WHERE rankedleague = 'GRANDMASTER' LIMIT 5'''\n",
    "\n",
    "    all_puuids = PostgresFetch(query=user_query, data=None, fetch=\"all\", **args).run(\n",
    "        password=password\n",
    "    )\n",
    "\n",
    "    for puuid in all_puuids:\n",
    "        get__recent_match_history(puuid=puuid[0],password = password, riot_header=riot_header, args=args)\n"
   ]
  },
  {
   "cell_type": "code",
   "execution_count": 81,
   "metadata": {},
   "outputs": [
    {
     "name": "stdout",
     "output_type": "stream",
     "text": [
      "[2021-10-30 12:11:31+0100] INFO - prefect.FlowRunner | Beginning Flow run for 'Get Latest Challenger Matches'\n",
      "[2021-10-30 12:11:31+0100] INFO - prefect.TaskRunner | Task 'PASSWORD': Starting task run...\n",
      "[2021-10-30 12:11:31+0100] INFO - prefect.TaskRunner | Task 'PASSWORD': Finished task run for task with final state: 'Success'\n",
      "[2021-10-30 12:11:31+0100] INFO - prefect.TaskRunner | Task 'USERNAME': Starting task run...\n",
      "[2021-10-30 12:11:31+0100] INFO - prefect.TaskRunner | Task 'USERNAME': Finished task run for task with final state: 'Success'\n",
      "[2021-10-30 12:11:31+0100] INFO - prefect.TaskRunner | Task 'update_challenger_matches': Starting task run...\n",
      "[2021-10-30 12:11:31+0100] INFO - prefect.TaskRunner | Task 'update_challenger_matches': Finished task run for task with final state: 'Success'\n",
      "[2021-10-30 12:11:31+0100] INFO - prefect.FlowRunner | Flow run SUCCESS: all reference tasks succeeded\n"
     ]
    },
    {
     "data": {
      "text/plain": [
       "<Success: \"All reference tasks succeeded.\">"
      ]
     },
     "execution_count": 81,
     "metadata": {},
     "output_type": "execute_result"
    }
   ],
   "source": [
    "with Flow(\"Get Latest Challenger Matches\") as flow:\n",
    "    username = PrefectSecret(\"USERNAME\")\n",
    "    password = PrefectSecret(\"PASSWORD\")\n",
    "    api_key = cfg['riotgamesapi']['key']\n",
    "    dbname = \"teamfighttactics\"\n",
    "    update_challenger_matches(\n",
    "        username=username, password=password, db_name=dbname, api_key=api_key\n",
    "    )\n",
    "\n",
    "flow.run()"
   ]
  },
  {
   "cell_type": "code",
   "execution_count": 82,
   "metadata": {},
   "outputs": [
    {
     "name": "stdout",
     "output_type": "stream",
     "text": [
      "[2021-10-30 12:11:33+0100] INFO - prefect.FlowRunner | Beginning Flow run for 'Get Latest Grandmaster Matches'\n",
      "[2021-10-30 12:11:33+0100] INFO - prefect.TaskRunner | Task 'USERNAME': Starting task run...\n",
      "[2021-10-30 12:11:33+0100] INFO - prefect.TaskRunner | Task 'USERNAME': Finished task run for task with final state: 'Success'\n",
      "[2021-10-30 12:11:33+0100] INFO - prefect.TaskRunner | Task 'PASSWORD': Starting task run...\n",
      "[2021-10-30 12:11:33+0100] INFO - prefect.TaskRunner | Task 'PASSWORD': Finished task run for task with final state: 'Success'\n",
      "[2021-10-30 12:11:33+0100] INFO - prefect.TaskRunner | Task 'update_grandmaster_matches': Starting task run...\n",
      "[2021-10-30 12:12:39+0100] INFO - prefect.TaskRunner | Task 'update_grandmaster_matches': Finished task run for task with final state: 'Success'\n",
      "[2021-10-30 12:12:39+0100] INFO - prefect.FlowRunner | Flow run SUCCESS: all reference tasks succeeded\n"
     ]
    },
    {
     "data": {
      "text/plain": [
       "<Success: \"All reference tasks succeeded.\">"
      ]
     },
     "execution_count": 82,
     "metadata": {},
     "output_type": "execute_result"
    }
   ],
   "source": [
    "with Flow(\"Get Latest Grandmaster Matches\") as flow:\n",
    "    username = PrefectSecret(\"USERNAME\")\n",
    "    password = PrefectSecret(\"PASSWORD\")\n",
    "    api_key = cfg['riotgamesapi']['key']\n",
    "    dbname = \"teamfighttactics\"\n",
    "    update_grandmaster_matches(\n",
    "        username=username, password=password, db_name=dbname, api_key=api_key\n",
    "    )\n",
    "\n",
    "flow.run()"
   ]
  },
  {
   "cell_type": "code",
   "execution_count": null,
   "metadata": {},
   "outputs": [],
   "source": []
  }
 ],
 "metadata": {
  "interpreter": {
   "hash": "f2eac088e867aeee03c8488a8410e7b3b94d88bd5468a0fc8e8b045392ed2f83"
  },
  "kernelspec": {
   "display_name": "Python 3.8.9 64-bit ('venv': venv)",
   "name": "python3"
  },
  "language_info": {
   "codemirror_mode": {
    "name": "ipython",
    "version": 3
   },
   "file_extension": ".py",
   "mimetype": "text/x-python",
   "name": "python",
   "nbconvert_exporter": "python",
   "pygments_lexer": "ipython3",
   "version": "3.8.9"
  },
  "orig_nbformat": 4
 },
 "nbformat": 4,
 "nbformat_minor": 2
}
