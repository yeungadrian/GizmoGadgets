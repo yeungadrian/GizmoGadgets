{
 "cells": [
  {
   "cell_type": "markdown",
   "metadata": {},
   "source": [
    "## Prefect"
   ]
  },
  {
   "cell_type": "code",
   "execution_count": 45,
   "metadata": {},
   "outputs": [],
   "source": [
    "from prefect import task, Flow\n",
    "from prefect.tasks.secrets import PrefectSecret\n",
    "from prefect.tasks.postgres import PostgresExecute, PostgresFetch\n",
    "import psycopg2 as pg\n",
    "import requests\n",
    "import pandas as pd\n",
    "import time\n",
    "import yaml\n",
    "import requests\n",
    "import datetime"
   ]
  },
  {
   "cell_type": "code",
   "execution_count": 46,
   "metadata": {},
   "outputs": [
    {
     "name": "stderr",
     "output_type": "stream",
     "text": [
      "/var/folders/8g/67y55mms29zf6yt6q92_3hsr0000gn/T/ipykernel_86021/2003926877.py:2: YAMLLoadWarning: calling yaml.load() without Loader=... is deprecated, as the default Loader is unsafe. Please read https://msg.pyyaml.org/load for full details.\n",
      "  cfg = yaml.load(ymlfile)\n"
     ]
    }
   ],
   "source": [
    "with open(\"../config.yml\", \"r\") as ymlfile:\n",
    "    cfg = yaml.load(ymlfile)\n",
    "api_key = cfg['riotgamesapi']['key']\n",
    "username = cfg['postgresql']['user']\n",
    "password = cfg['postgresql']['password']\n",
    "database = 'teamfighttactics'"
   ]
  },
  {
   "cell_type": "code",
   "execution_count": 47,
   "metadata": {},
   "outputs": [],
   "source": [
    "query_header = {\n",
    "        \"X-Riot-Token\": api_key\n",
    "}\n",
    "challenger_url = 'https://euw1.api.riotgames.com/tft/league/v1/challenger'\n",
    "challenger_response = requests.get(url = challenger_url, headers=query_header).json()"
   ]
  },
  {
   "cell_type": "code",
   "execution_count": 48,
   "metadata": {},
   "outputs": [],
   "source": [
    "@task\n",
    "def get_challenger_users(username, password, db_name, api_key):\n",
    "    \"\"\"A task that requires credentials to access something. Passing the\n",
    "    credentials in as an argument allows you to change how/where the\n",
    "    credentials are loaded (though we recommend using `PrefectSecret` tasks to\n",
    "    load them.\"\"\"\n",
    "\n",
    "    query_header = {\"X-Riot-Token\": api_key}\n",
    "\n",
    "    challenger_url = \"https://euw1.api.riotgames.com/tft/league/v1/challenger\"\n",
    "    challenger_response = requests.get(url=challenger_url, headers=query_header).json()\n",
    "    time.sleep(2)\n",
    "\n",
    "    for i in challenger_response[\"entries\"]:\n",
    "        summonerId = i[\"summonerId\"]\n",
    "        summonerName = i[\"summonerName\"]\n",
    "        leaguePoints = i[\"leaguePoints\"]\n",
    "\n",
    "        puuid_url = (\n",
    "            f\"https://euw1.api.riotgames.com/tft/summoner/v1/summoners/{summonerId}\"\n",
    "        )\n",
    "        puuid_response = requests.get(url=puuid_url, headers=query_header).json()\n",
    "        time.sleep(2)\n",
    "        puuid = str(puuid_response[\"puuid\"])\n",
    "\n",
    "        user_query = \"\"\"\n",
    "            INSERT INTO public.users(\n",
    "                id, summonername, summonerid, rankedleague, puuid, leaguepoints, region)\n",
    "                VALUES (DEFAULT, %s, %s, 'CHALLENGER', %s, %s , 'EUW1')\n",
    "                \"\"\"\n",
    "\n",
    "        query_data = (\n",
    "            summonerName,\n",
    "            summonerId,\n",
    "            puuid,\n",
    "            leaguePoints,\n",
    "        )\n",
    "\n",
    "        PostgresExecute(\n",
    "            db_name=db_name,\n",
    "            user=username,\n",
    "            host=\"127.0.0.1\",\n",
    "            port=5432,\n",
    "            query=user_query,\n",
    "            data=query_data,\n",
    "            commit=True,\n",
    "        ).run(password=password)"
   ]
  },
  {
   "cell_type": "code",
   "execution_count": 49,
   "metadata": {},
   "outputs": [
    {
     "name": "stdout",
     "output_type": "stream",
     "text": [
      "[2021-10-29 23:08:46+0100] INFO - prefect.FlowRunner | Beginning Flow run for 'Hello'\n",
      "[2021-10-29 23:08:46+0100] INFO - prefect.TaskRunner | Task 'PASSWORD': Starting task run...\n",
      "[2021-10-29 23:08:46+0100] INFO - prefect.TaskRunner | Task 'PASSWORD': Finished task run for task with final state: 'Success'\n",
      "[2021-10-29 23:08:46+0100] INFO - prefect.TaskRunner | Task 'USERNAME': Starting task run...\n",
      "[2021-10-29 23:08:46+0100] INFO - prefect.TaskRunner | Task 'USERNAME': Finished task run for task with final state: 'Success'\n",
      "[2021-10-29 23:08:46+0100] INFO - prefect.TaskRunner | Task 'get_challenger_users': Starting task run...\n",
      "[2021-10-29 23:16:17+0100] INFO - prefect.TaskRunner | Task 'get_challenger_users': Finished task run for task with final state: 'Success'\n",
      "[2021-10-29 23:16:17+0100] INFO - prefect.FlowRunner | Flow run SUCCESS: all reference tasks succeeded\n"
     ]
    },
    {
     "data": {
      "text/plain": [
       "<Success: \"All reference tasks succeeded.\">"
      ]
     },
     "execution_count": 49,
     "metadata": {},
     "output_type": "execute_result"
    }
   ],
   "source": [
    "with Flow(\"Hello\") as flow:\n",
    "    username = PrefectSecret(\"USERNAME\")\n",
    "    password = PrefectSecret(\"PASSWORD\")\n",
    "    dbname= 'teamfighttactics' \n",
    "    get_challenger_users(username = username, password = password,db_name = dbname, api_key = api_key )\n",
    "\n",
    "flow.run()"
   ]
  },
  {
   "cell_type": "code",
   "execution_count": 50,
   "metadata": {},
   "outputs": [],
   "source": [
    "@task\n",
    "def get_match_history(username, password, db_name, api_key):\n",
    "    \"\"\"A task that requires credentials to access something. Passing the\n",
    "    credentials in as an argument allows you to change how/where the\n",
    "    credentials are loaded (though we recommend using `PrefectSecret` tasks to\n",
    "    load them.\"\"\"\n",
    "\n",
    "    riot_header = {\"X-Riot-Token\": api_key}\n",
    "\n",
    "    args = {\n",
    "        \"db_name\": db_name,\n",
    "        \"user\": username,\n",
    "        \"host\": \"127.0.0.1\",\n",
    "        \"port\": 5432,\n",
    "        \"commit\": True,\n",
    "    }\n",
    "\n",
    "    user_query = \"SELECT puuid FROM users LIMIT 1\"\n",
    "\n",
    "    all_puuids = PostgresFetch(query=user_query, data=None, fetch=\"all\", **args).run(\n",
    "        password=password\n",
    "    )\n",
    "\n",
    "    for puuid in all_puuids:\n",
    "        puuid = puuid[0]\n",
    "        match_id_url = f\"https://europe.api.riotgames.com/tft/match/v1/matches/by-puuid/{puuid}/ids?count=10\"\n",
    "        recent_match_ids = requests.get(url=match_id_url, headers=riot_header).json()\n",
    "        time.sleep(1.6)\n",
    "\n",
    "        match_id_query = \"SELECT matchid FROM matchinfo WHERE matchid = ANY(%s);\"\n",
    "        match_id_data = (recent_match_ids,)\n",
    "        existing_ids = PostgresFetch(\n",
    "            query=match_id_query, data=match_id_data, fetch=\"all\", **args\n",
    "        ).run(password=password)\n",
    "\n",
    "        existing_ids = [i[0] for i in existing_ids]\n",
    "        new_matches = set(recent_match_ids).symmetric_difference(set(existing_ids))\n",
    "        new_matches = list(new_matches)\n",
    "        print(existing_ids)\n",
    "        print(new_matches)\n",
    "        for match_id in new_matches:\n",
    "            match_detail_url = (\n",
    "                f\"https://europe.api.riotgames.com/tft/match/v1/matches/{match_id}\"\n",
    "            )\n",
    "            time.sleep(1.6)\n",
    "\n",
    "            match_detail = requests.get(match_detail_url, headers=riot_header).json()\n",
    "\n",
    "            for participant in match_detail[\"info\"][\"participants\"]:\n",
    "\n",
    "                participant_puuid = participant['puuid']\n",
    "\n",
    "                puuid_query = \"\"\"\n",
    "                    SELECT id FROM users WHERE puuid = %s\n",
    "                    \"\"\"\n",
    "\n",
    "                puuid_data = (\n",
    "                    participant_puuid,\n",
    "                )\n",
    "\n",
    "                user_id = PostgresFetch(query=puuid_query, data=puuid_data, fetch=\"one\", **args).run(\n",
    "                    password=password\n",
    "                )\n",
    "\n",
    "                match_query = \"\"\"\n",
    "                    INSERT INTO matchinfo VALUES (DEFAULT,%s,%s,%s)\n",
    "                    \"\"\"\n",
    "\n",
    "                match_data = (\n",
    "                    match_id,\n",
    "                    user_id,\n",
    "                    participant[\"placement\"],\n",
    "                )\n",
    "\n",
    "                PostgresExecute(query=match_query, data=match_data, **args).run(\n",
    "                    password=password\n",
    "                )\n",
    "\n",
    "                participant_query = \"\"\"\n",
    "                    SELECT id FROM matchinfo WHERE userid = %s and matchid = %s\n",
    "                    \"\"\"\n",
    "\n",
    "                participant_data = (user_id, match_id,)\n",
    "\n",
    "                match_data_id = PostgresFetch(\n",
    "                    query=participant_query, data=participant_data, fetch=\"one\", **args\n",
    "                ).run(password=password)\n",
    "\n",
    "                for units in participant['units']:\n",
    "                    character_id = units['character_id']\n",
    "                    tier = units['tier']\n",
    "                    items = units['items']\n",
    "                    item1 =  items[0] if len(items)>0 else None\n",
    "                    item2 = items[1] if len(items)>1 else None\n",
    "                    item3 = items[1] if len(items)>2 else None\n",
    "\n",
    "                unit_query = \"\"\"\n",
    "                    INSERT INTO matchunits VALUES (%s,%s,%s,%s,%s,%s)\n",
    "                    \"\"\"\n",
    "                unit_data = (match_data_id, character_id, tier, item1, item2, item3,)\n",
    "\n",
    "                PostgresExecute(query=unit_query, data=unit_data, **args).run(\n",
    "                    password=password\n",
    "                )"
   ]
  },
  {
   "cell_type": "code",
   "execution_count": 51,
   "metadata": {},
   "outputs": [
    {
     "name": "stdout",
     "output_type": "stream",
     "text": [
      "[2021-10-29 23:16:17+0100] INFO - prefect.FlowRunner | Beginning Flow run for 'Get Latest Matches'\n",
      "[2021-10-29 23:16:17+0100] INFO - prefect.TaskRunner | Task 'PASSWORD': Starting task run...\n",
      "[2021-10-29 23:16:17+0100] INFO - prefect.TaskRunner | Task 'PASSWORD': Finished task run for task with final state: 'Success'\n",
      "[2021-10-29 23:16:17+0100] INFO - prefect.TaskRunner | Task 'USERNAME': Starting task run...\n",
      "[2021-10-29 23:16:17+0100] INFO - prefect.TaskRunner | Task 'USERNAME': Finished task run for task with final state: 'Success'\n",
      "[2021-10-29 23:16:17+0100] INFO - prefect.TaskRunner | Task 'get_match_history': Starting task run...\n",
      "[]\n",
      "['EUW1_5522333968', 'EUW1_5519233328', 'EUW1_5521008996', 'EUW1_5528067029', 'EUW1_5525389240', 'EUW1_5524323777', 'EUW1_5526869212', 'EUW1_5514902434', 'EUW1_5512947437', 'EUW1_5528696425']\n",
      "[2021-10-29 23:16:46+0100] INFO - prefect.TaskRunner | Task 'get_match_history': Finished task run for task with final state: 'Success'\n",
      "[2021-10-29 23:16:46+0100] INFO - prefect.FlowRunner | Flow run SUCCESS: all reference tasks succeeded\n"
     ]
    },
    {
     "data": {
      "text/plain": [
       "<Success: \"All reference tasks succeeded.\">"
      ]
     },
     "execution_count": 51,
     "metadata": {},
     "output_type": "execute_result"
    }
   ],
   "source": [
    "with Flow(\"Get Latest Matches\") as flow:\n",
    "    dbname = \"teamfighttactics\"\n",
    "    get_match_history(\n",
    "        username=username, password=password, db_name=dbname, api_key=api_key\n",
    "    )\n",
    "\n",
    "flow.run()"
   ]
  }
 ],
 "metadata": {
  "interpreter": {
   "hash": "f2eac088e867aeee03c8488a8410e7b3b94d88bd5468a0fc8e8b045392ed2f83"
  },
  "kernelspec": {
   "display_name": "Python 3.8.9 64-bit ('venv': venv)",
   "name": "python3"
  },
  "language_info": {
   "codemirror_mode": {
    "name": "ipython",
    "version": 3
   },
   "file_extension": ".py",
   "mimetype": "text/x-python",
   "name": "python",
   "nbconvert_exporter": "python",
   "pygments_lexer": "ipython3",
   "version": "3.8.9"
  },
  "orig_nbformat": 4
 },
 "nbformat": 4,
 "nbformat_minor": 2
}
