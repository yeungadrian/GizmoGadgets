{
 "cells": [
  {
   "cell_type": "markdown",
   "metadata": {},
   "source": [
    "## Prefect"
   ]
  },
  {
   "cell_type": "code",
   "execution_count": 3,
   "metadata": {},
   "outputs": [],
   "source": [
    "from prefect import task, Flow\n",
    "from prefect.tasks.secrets import PrefectSecret\n",
    "from prefect.tasks.postgres import PostgresExecute, PostgresFetch\n",
    "import requests\n",
    "import time\n",
    "import yaml\n",
    "import requests"
   ]
  },
  {
   "cell_type": "code",
   "execution_count": 4,
   "metadata": {},
   "outputs": [
    {
     "name": "stderr",
     "output_type": "stream",
     "text": [
      "/var/folders/8g/67y55mms29zf6yt6q92_3hsr0000gn/T/ipykernel_7566/2003926877.py:2: YAMLLoadWarning: calling yaml.load() without Loader=... is deprecated, as the default Loader is unsafe. Please read https://msg.pyyaml.org/load for full details.\n",
      "  cfg = yaml.load(ymlfile)\n"
     ]
    }
   ],
   "source": [
    "with open(\"../config.yml\", \"r\") as ymlfile:\n",
    "    cfg = yaml.load(ymlfile)\n",
    "api_key = cfg['riotgamesapi']['key']\n",
    "username = cfg['postgresql']['user']\n",
    "password = cfg['postgresql']['password']\n",
    "database = 'teamfighttactics'"
   ]
  },
  {
   "cell_type": "code",
   "execution_count": 5,
   "metadata": {},
   "outputs": [],
   "source": [
    "db_args = {\n",
    "    \"db_name\": \"teamfighttactics\",\n",
    "    \"user\": username,\n",
    "    \"host\": \"127.0.0.1\",\n",
    "    \"port\": 5432,\n",
    "    \"commit\": True,\n",
    "}"
   ]
  },
  {
   "cell_type": "code",
   "execution_count": 6,
   "metadata": {},
   "outputs": [],
   "source": [
    "league = 'DIAMOND'\n",
    "user_query = \" SELECT puuid FROM users WHERE league = %s \"\n",
    "user_data = (league,)\n",
    "all_puuids = PostgresFetch(\n",
    "    query=user_query, data=user_data, fetch=\"all\", **db_args\n",
    ").run(password=password)"
   ]
  },
  {
   "cell_type": "code",
   "execution_count": 7,
   "metadata": {},
   "outputs": [
    {
     "data": {
      "text/plain": [
       "'ho_kpOKtWaF84QFjwOgvCCKNehb7kXVisIXKS6KzCl6r74-HBeE_cw4tU-36zr0SKRcaGKa41eDrhA'"
      ]
     },
     "execution_count": 7,
     "metadata": {},
     "output_type": "execute_result"
    }
   ],
   "source": [
    "all_puuids[0][0]"
   ]
  },
  {
   "cell_type": "code",
   "execution_count": 8,
   "metadata": {},
   "outputs": [],
   "source": [
    "check_query = \"\"\"\n",
    "        SELECT count(id) FROM matchinfo WHERE matchid = %s\n",
    "        \"\"\"\n",
    "\n",
    "check_data = (\n",
    "    \"asd\",\n",
    ")\n",
    "\n",
    "something = PostgresExecute(query=check_query, data=check_data, **db_args).run(\n",
    "    password=password\n",
    ")"
   ]
  },
  {
   "cell_type": "code",
   "execution_count": 10,
   "metadata": {},
   "outputs": [
    {
     "data": {
      "text/plain": [
       "NoneType"
      ]
     },
     "execution_count": 10,
     "metadata": {},
     "output_type": "execute_result"
    }
   ],
   "source": [
    "type(something)"
   ]
  },
  {
   "cell_type": "code",
   "execution_count": null,
   "metadata": {},
   "outputs": [],
   "source": []
  }
 ],
 "metadata": {
  "interpreter": {
   "hash": "f2eac088e867aeee03c8488a8410e7b3b94d88bd5468a0fc8e8b045392ed2f83"
  },
  "kernelspec": {
   "display_name": "Python 3.8.9 64-bit ('venv': venv)",
   "name": "python3"
  },
  "language_info": {
   "codemirror_mode": {
    "name": "ipython",
    "version": 3
   },
   "file_extension": ".py",
   "mimetype": "text/x-python",
   "name": "python",
   "nbconvert_exporter": "python",
   "pygments_lexer": "ipython3",
   "version": "3.8.9"
  },
  "orig_nbformat": 4
 },
 "nbformat": 4,
 "nbformat_minor": 2
}
