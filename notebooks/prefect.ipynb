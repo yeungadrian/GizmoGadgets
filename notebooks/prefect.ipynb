{
 "cells": [
  {
   "cell_type": "markdown",
   "metadata": {},
   "source": [
    "## Prefect"
   ]
  },
  {
   "cell_type": "code",
   "execution_count": 1,
   "metadata": {},
   "outputs": [
    {
     "name": "stderr",
     "output_type": "stream",
     "text": [
      "/Users/yeungadrian/Documents/repo/ML-Ops/venv/lib/python3.8/site-packages/pandas/compat/__init__.py:124: UserWarning: Could not import the lzma module. Your installed Python is incomplete. Attempting to use lzma compression will result in a RuntimeError.\n",
      "  warnings.warn(msg)\n"
     ]
    }
   ],
   "source": [
    "from prefect import task, Flow\n",
    "from prefect.tasks.secrets import PrefectSecret\n",
    "from prefect.tasks.postgres import PostgresExecute, PostgresFetch\n",
    "import psycopg2 as pg\n",
    "import requests\n",
    "import pandas as pd\n",
    "import time\n",
    "import yaml\n",
    "import requests\n",
    "import datetime"
   ]
  },
  {
   "cell_type": "code",
   "execution_count": 2,
   "metadata": {},
   "outputs": [
    {
     "name": "stderr",
     "output_type": "stream",
     "text": [
      "/var/folders/8g/67y55mms29zf6yt6q92_3hsr0000gn/T/ipykernel_84321/2003926877.py:2: YAMLLoadWarning: calling yaml.load() without Loader=... is deprecated, as the default Loader is unsafe. Please read https://msg.pyyaml.org/load for full details.\n",
      "  cfg = yaml.load(ymlfile)\n"
     ]
    }
   ],
   "source": [
    "with open(\"../config.yml\", \"r\") as ymlfile:\n",
    "    cfg = yaml.load(ymlfile)\n",
    "api_key = cfg['riotgamesapi']['key']\n",
    "username = cfg['postgresql']['user']\n",
    "password = cfg['postgresql']['password']\n",
    "database = 'teamfighttactics'"
   ]
  },
  {
   "cell_type": "code",
   "execution_count": 3,
   "metadata": {},
   "outputs": [],
   "source": [
    "query_header = {\n",
    "        \"X-Riot-Token\": api_key\n",
    "}\n",
    "challenger_url = 'https://euw1.api.riotgames.com/tft/league/v1/challenger'\n",
    "challenger_response = requests.get(url = challenger_url, headers=query_header).json()"
   ]
  },
  {
   "cell_type": "code",
   "execution_count": 5,
   "metadata": {},
   "outputs": [],
   "source": [
    "@task\n",
    "def update_challenger_league(username, password, db_name, api_key):\n",
    "    \"\"\"A task that requires credentials to access something. Passing the\n",
    "    credentials in as an argument allows you to change how/where the\n",
    "    credentials are loaded (though we recommend using `PrefectSecret` tasks to\n",
    "    load them.\"\"\"\n",
    "    query_header = {\n",
    "            \"X-Riot-Token\": api_key\n",
    "    }\n",
    "    challenger_url = 'https://euw1.api.riotgames.com/tft/league/v1/challenger'\n",
    "    challenger_response = requests.get(url = challenger_url, headers=query_header).json()\n",
    "    challenger_response_df = pd.DataFrame(challenger_response['entries'])\n",
    "\n",
    "    for i in range(0, challenger_response_df.shape[0]):\n",
    "        summonerId = str(challenger_response_df[\"summonerId\"][i])\n",
    "        summonerName = str(challenger_response_df[\"summonerName\"][i])\n",
    "        leaguePoints = int(challenger_response_df[\"leaguePoints\"][i])\n",
    "\n",
    "        puuid_url = f'https://euw1.api.riotgames.com/tft/summoner/v1/summoners/{summonerId}'\n",
    "        puuid_response = requests.get(url = puuid_url, headers=query_header).json()\n",
    "        puuid = str(puuid_response[\"puuid\"])\n",
    "\n",
    "        time.sleep(1.6)\n",
    "\n",
    "        user_query = '''\n",
    "            INSERT INTO public.users(\n",
    "                id, summonername, summonerid, rankedleague, puuid, leaguepoints, region)\n",
    "                VALUES (DEFAULT, %s, %s, 'CHALLENGER', %s, %s , 'EUW1')\n",
    "                '''\n",
    "        query_data = (summonerName, summonerId, puuid,leaguePoints,)\n",
    "\n",
    "        PostgresExecute(\n",
    "            db_name=db_name,\n",
    "            user=username,\n",
    "            host=\"127.0.0.1\",\n",
    "            port=5432,\n",
    "            query=user_query,\n",
    "            data=query_data,\n",
    "            commit=True,\n",
    "        ).run(password=password)"
   ]
  },
  {
   "cell_type": "code",
   "execution_count": 6,
   "metadata": {},
   "outputs": [
    {
     "name": "stdout",
     "output_type": "stream",
     "text": [
      "[2021-10-27 23:35:36+0100] INFO - prefect.FlowRunner | Beginning Flow run for 'Hello'\n",
      "[2021-10-27 23:35:36+0100] INFO - prefect.TaskRunner | Task 'PASSWORD': Starting task run...\n",
      "[2021-10-27 23:35:37+0100] INFO - prefect.TaskRunner | Task 'PASSWORD': Finished task run for task with final state: 'Success'\n",
      "[2021-10-27 23:35:37+0100] INFO - prefect.TaskRunner | Task 'USERNAME': Starting task run...\n",
      "[2021-10-27 23:35:37+0100] INFO - prefect.TaskRunner | Task 'USERNAME': Finished task run for task with final state: 'Success'\n",
      "[2021-10-27 23:35:37+0100] INFO - prefect.TaskRunner | Task 'update_challenger_league': Starting task run...\n",
      "[2021-10-27 23:41:45+0100] INFO - prefect.TaskRunner | Task 'update_challenger_league': Finished task run for task with final state: 'Success'\n",
      "[2021-10-27 23:41:45+0100] INFO - prefect.FlowRunner | Flow run SUCCESS: all reference tasks succeeded\n"
     ]
    },
    {
     "data": {
      "text/plain": [
       "<Success: \"All reference tasks succeeded.\">"
      ]
     },
     "execution_count": 6,
     "metadata": {},
     "output_type": "execute_result"
    }
   ],
   "source": [
    "with Flow(\"Hello\") as flow:\n",
    "    username = PrefectSecret(\"USERNAME\")\n",
    "    password = PrefectSecret(\"PASSWORD\")\n",
    "    dbname= 'teamfighttactics' \n",
    "    update_challenger_league(username = username, password = password,db_name = dbname, api_key = api_key )\n",
    "\n",
    "flow.run()"
   ]
  },
  {
   "cell_type": "code",
   "execution_count": 12,
   "metadata": {},
   "outputs": [],
   "source": [
    "@task\n",
    "def get_match_history(username, password, db_name, api_key):\n",
    "    \"\"\"A task that requires credentials to access something. Passing the\n",
    "    credentials in as an argument allows you to change how/where the\n",
    "    credentials are loaded (though we recommend using `PrefectSecret` tasks to\n",
    "    load them.\"\"\"\n",
    "\n",
    "    query_header = {\"X-Riot-Token\": api_key}\n",
    "\n",
    "    user_query = \"SELECT puuid FROM users\"\n",
    "    password = password\n",
    "    puuids = PostgresFetch(\n",
    "        db_name=db_name,\n",
    "        user=username,\n",
    "        host=\"127.0.0.1\",\n",
    "        port=5432,\n",
    "        query=user_query,\n",
    "        data=None,\n",
    "        fetch=\"all\",\n",
    "        commit=True,\n",
    "    ).run(password=password)\n",
    "\n",
    "    for i in puuids:\n",
    "        the_puuid = i[0]\n",
    "        match_id_url = f\"https://europe.api.riotgames.com/tft/match/v1/matches/by-puuid/{the_puuid}/ids?count=20\"\n",
    "        recent_match_ids = requests.get(url=match_id_url, headers=query_header).json()\n",
    "        time.sleep(2)\n",
    "\n",
    "        match_id_query = \"SELECT matchid FROM matchdata WHERE matchid = ANY(%s);\"\n",
    "        match_id_data = (recent_match_ids,)\n",
    "        existing_ids = PostgresFetch(\n",
    "            db_name=dbname,\n",
    "            user=username,\n",
    "            host=\"127.0.0.1\",\n",
    "            port=5432,\n",
    "            query=match_id_query,\n",
    "            data=match_id_data,\n",
    "            fetch=\"all\",\n",
    "            commit=True,\n",
    "        ).run(password=password)\n",
    "\n",
    "        existing_ids = [i[0] for i in existing_ids]\n",
    "        new_matches = set(recent_match_ids).symmetric_difference(set(existing_ids))\n",
    "        new_matches = list(new_matches)\n",
    "\n",
    "        for j in new_matches:\n",
    "            match_detail_url = (\n",
    "                f\"https://europe.api.riotgames.com/tft/match/v1/matches/{j}\"\n",
    "            )\n",
    "            time.sleep(2)\n",
    "            match_detail = requests.get(match_detail_url, headers=query_header).json()\n",
    "            print(match_detail.keys())\n",
    "            match_time = datetime.datetime.fromtimestamp(\n",
    "                match_detail[\"info\"][\"game_datetime\"] / 1e3\n",
    "            ).strftime(\"%Y-%m-%d %H:%M:%S\")\n",
    "            time_now = datetime.datetime.now().strftime(\"%Y-%m-%d %H:%M:%S\")\n",
    "\n",
    "            match_query = \"\"\"\n",
    "                    INSERT INTO matchdata VALUES (DEFAULT, %s,%s,%s, 'EUW')\n",
    "                    \"\"\"\n",
    "\n",
    "            match_data = (\n",
    "                j,\n",
    "                str(match_time),\n",
    "                str(time_now),\n",
    "            )\n",
    "\n",
    "            PostgresExecute(\n",
    "                db_name=dbname,\n",
    "                user=username,\n",
    "                host=\"127.0.0.1\",\n",
    "                port=5432,\n",
    "                query=match_query,\n",
    "                data=match_data,\n",
    "                commit=True,\n",
    "            ).run(password=password)"
   ]
  },
  {
   "cell_type": "code",
   "execution_count": 13,
   "metadata": {},
   "outputs": [
    {
     "name": "stdout",
     "output_type": "stream",
     "text": [
      "[2021-10-27 23:49:10+0100] INFO - prefect.FlowRunner | Beginning Flow run for 'Get Latest Matches'\n",
      "[2021-10-27 23:49:11+0100] INFO - prefect.TaskRunner | Task 'PASSWORD': Starting task run...\n",
      "[2021-10-27 23:49:11+0100] INFO - prefect.TaskRunner | Task 'PASSWORD': Finished task run for task with final state: 'Success'\n",
      "[2021-10-27 23:49:11+0100] INFO - prefect.TaskRunner | Task 'USERNAME': Starting task run...\n",
      "[2021-10-27 23:49:11+0100] INFO - prefect.TaskRunner | Task 'USERNAME': Finished task run for task with final state: 'Success'\n",
      "[2021-10-27 23:49:11+0100] INFO - prefect.TaskRunner | Task 'get_match_history': Starting task run...\n",
      "dict_keys(['metadata', 'info'])\n",
      "dict_keys(['metadata', 'info'])\n",
      "dict_keys(['metadata', 'info'])\n",
      "dict_keys(['metadata', 'info'])\n",
      "dict_keys(['metadata', 'info'])\n",
      "dict_keys(['metadata', 'info'])\n",
      "dict_keys(['metadata', 'info'])\n",
      "dict_keys(['metadata', 'info'])\n",
      "dict_keys(['metadata', 'info'])\n",
      "dict_keys(['metadata', 'info'])\n",
      "dict_keys(['metadata', 'info'])\n",
      "dict_keys(['metadata', 'info'])\n",
      "dict_keys(['metadata', 'info'])\n",
      "dict_keys(['metadata', 'info'])\n",
      "dict_keys(['metadata', 'info'])\n",
      "dict_keys(['metadata', 'info'])\n",
      "dict_keys(['metadata', 'info'])\n",
      "dict_keys(['metadata', 'info'])\n"
     ]
    },
    {
     "ename": "KeyboardInterrupt",
     "evalue": "",
     "output_type": "error",
     "traceback": [
      "\u001b[0;31m---------------------------------------------------------------------------\u001b[0m",
      "\u001b[0;31mKeyboardInterrupt\u001b[0m                         Traceback (most recent call last)",
      "\u001b[0;32m/var/folders/8g/67y55mms29zf6yt6q92_3hsr0000gn/T/ipykernel_81881/2340622025.py\u001b[0m in \u001b[0;36m<module>\u001b[0;34m\u001b[0m\n\u001b[1;32m      5\u001b[0m     )\n\u001b[1;32m      6\u001b[0m \u001b[0;34m\u001b[0m\u001b[0m\n\u001b[0;32m----> 7\u001b[0;31m \u001b[0mflow\u001b[0m\u001b[0;34m.\u001b[0m\u001b[0mrun\u001b[0m\u001b[0;34m(\u001b[0m\u001b[0;34m)\u001b[0m\u001b[0;34m\u001b[0m\u001b[0;34m\u001b[0m\u001b[0m\n\u001b[0m",
      "\u001b[0;32m~/Documents/repo/ML-Ops/venv/lib/python3.8/site-packages/prefect/core/flow.py\u001b[0m in \u001b[0;36mrun\u001b[0;34m(self, parameters, run_on_schedule, runner_cls, **kwargs)\u001b[0m\n\u001b[1;32m   1272\u001b[0m             \u001b[0mrun_on_schedule\u001b[0m \u001b[0;34m=\u001b[0m \u001b[0mcast\u001b[0m\u001b[0;34m(\u001b[0m\u001b[0mbool\u001b[0m\u001b[0;34m,\u001b[0m \u001b[0mprefect\u001b[0m\u001b[0;34m.\u001b[0m\u001b[0mconfig\u001b[0m\u001b[0;34m.\u001b[0m\u001b[0mflows\u001b[0m\u001b[0;34m.\u001b[0m\u001b[0mrun_on_schedule\u001b[0m\u001b[0;34m)\u001b[0m\u001b[0;34m\u001b[0m\u001b[0;34m\u001b[0m\u001b[0m\n\u001b[1;32m   1273\u001b[0m \u001b[0;34m\u001b[0m\u001b[0m\n\u001b[0;32m-> 1274\u001b[0;31m         state = self._run(\n\u001b[0m\u001b[1;32m   1275\u001b[0m             \u001b[0mparameters\u001b[0m\u001b[0;34m=\u001b[0m\u001b[0mparameters\u001b[0m\u001b[0;34m,\u001b[0m\u001b[0;34m\u001b[0m\u001b[0;34m\u001b[0m\u001b[0m\n\u001b[1;32m   1276\u001b[0m             \u001b[0mrunner_cls\u001b[0m\u001b[0;34m=\u001b[0m\u001b[0mrunner_cls\u001b[0m\u001b[0;34m,\u001b[0m\u001b[0;34m\u001b[0m\u001b[0;34m\u001b[0m\u001b[0m\n",
      "\u001b[0;32m~/Documents/repo/ML-Ops/venv/lib/python3.8/site-packages/prefect/core/flow.py\u001b[0m in \u001b[0;36m_run\u001b[0;34m(self, parameters, runner_cls, run_on_schedule, **kwargs)\u001b[0m\n\u001b[1;32m   1090\u001b[0m                         \u001b[0mtask_run_id\u001b[0m\u001b[0;34m=\u001b[0m\u001b[0mstr\u001b[0m\u001b[0;34m(\u001b[0m\u001b[0muuid\u001b[0m\u001b[0;34m.\u001b[0m\u001b[0muuid4\u001b[0m\u001b[0;34m(\u001b[0m\u001b[0;34m)\u001b[0m\u001b[0;34m)\u001b[0m\u001b[0;34m,\u001b[0m \u001b[0mtask_id\u001b[0m\u001b[0;34m=\u001b[0m\u001b[0mself\u001b[0m\u001b[0;34m.\u001b[0m\u001b[0mslugs\u001b[0m\u001b[0;34m[\u001b[0m\u001b[0mt\u001b[0m\u001b[0;34m]\u001b[0m\u001b[0;34m\u001b[0m\u001b[0;34m\u001b[0m\u001b[0m\n\u001b[1;32m   1091\u001b[0m                     )\n\u001b[0;32m-> 1092\u001b[0;31m                 flow_state = runner.run(\n\u001b[0m\u001b[1;32m   1093\u001b[0m                     \u001b[0mparameters\u001b[0m\u001b[0;34m=\u001b[0m\u001b[0mparameters\u001b[0m\u001b[0;34m,\u001b[0m\u001b[0;34m\u001b[0m\u001b[0;34m\u001b[0m\u001b[0m\n\u001b[1;32m   1094\u001b[0m                     \u001b[0mreturn_tasks\u001b[0m\u001b[0;34m=\u001b[0m\u001b[0mself\u001b[0m\u001b[0;34m.\u001b[0m\u001b[0mtasks\u001b[0m\u001b[0;34m,\u001b[0m\u001b[0;34m\u001b[0m\u001b[0;34m\u001b[0m\u001b[0m\n",
      "\u001b[0;32m~/Documents/repo/ML-Ops/venv/lib/python3.8/site-packages/prefect/engine/flow_runner.py\u001b[0m in \u001b[0;36mrun\u001b[0;34m(self, state, task_states, return_tasks, parameters, task_runner_state_handlers, executor, context, task_contexts)\u001b[0m\n\u001b[1;32m    274\u001b[0m                 \u001b[0mstate\u001b[0m \u001b[0;34m=\u001b[0m \u001b[0mself\u001b[0m\u001b[0;34m.\u001b[0m\u001b[0mcheck_flow_reached_start_time\u001b[0m\u001b[0;34m(\u001b[0m\u001b[0mstate\u001b[0m\u001b[0;34m)\u001b[0m\u001b[0;34m\u001b[0m\u001b[0;34m\u001b[0m\u001b[0m\n\u001b[1;32m    275\u001b[0m                 \u001b[0mstate\u001b[0m \u001b[0;34m=\u001b[0m \u001b[0mself\u001b[0m\u001b[0;34m.\u001b[0m\u001b[0mset_flow_to_running\u001b[0m\u001b[0;34m(\u001b[0m\u001b[0mstate\u001b[0m\u001b[0;34m)\u001b[0m\u001b[0;34m\u001b[0m\u001b[0;34m\u001b[0m\u001b[0m\n\u001b[0;32m--> 276\u001b[0;31m                 state = self.get_flow_run_state(\n\u001b[0m\u001b[1;32m    277\u001b[0m                     \u001b[0mstate\u001b[0m\u001b[0;34m,\u001b[0m\u001b[0;34m\u001b[0m\u001b[0;34m\u001b[0m\u001b[0m\n\u001b[1;32m    278\u001b[0m                     \u001b[0mtask_states\u001b[0m\u001b[0;34m=\u001b[0m\u001b[0mtask_states\u001b[0m\u001b[0;34m,\u001b[0m\u001b[0;34m\u001b[0m\u001b[0;34m\u001b[0m\u001b[0m\n",
      "\u001b[0;32m~/Documents/repo/ML-Ops/venv/lib/python3.8/site-packages/prefect/utilities/executors.py\u001b[0m in \u001b[0;36minner\u001b[0;34m(self, *args, **kwargs)\u001b[0m\n\u001b[1;32m     79\u001b[0m \u001b[0;34m\u001b[0m\u001b[0m\n\u001b[1;32m     80\u001b[0m         \u001b[0;32mwith\u001b[0m \u001b[0mconfigured_heartbeat\u001b[0m\u001b[0;34m:\u001b[0m\u001b[0;34m\u001b[0m\u001b[0;34m\u001b[0m\u001b[0m\n\u001b[0;32m---> 81\u001b[0;31m             \u001b[0;32mreturn\u001b[0m \u001b[0mrunner_method\u001b[0m\u001b[0;34m(\u001b[0m\u001b[0mself\u001b[0m\u001b[0;34m,\u001b[0m \u001b[0;34m*\u001b[0m\u001b[0margs\u001b[0m\u001b[0;34m,\u001b[0m \u001b[0;34m**\u001b[0m\u001b[0mkwargs\u001b[0m\u001b[0;34m)\u001b[0m\u001b[0;34m\u001b[0m\u001b[0;34m\u001b[0m\u001b[0m\n\u001b[0m\u001b[1;32m     82\u001b[0m \u001b[0;34m\u001b[0m\u001b[0m\n\u001b[1;32m     83\u001b[0m     \u001b[0;32mreturn\u001b[0m \u001b[0minner\u001b[0m\u001b[0;34m\u001b[0m\u001b[0;34m\u001b[0m\u001b[0m\n",
      "\u001b[0;32m~/Documents/repo/ML-Ops/venv/lib/python3.8/site-packages/prefect/engine/runner.py\u001b[0m in \u001b[0;36minner\u001b[0;34m(self, state, *args, **kwargs)\u001b[0m\n\u001b[1;32m     46\u001b[0m \u001b[0;34m\u001b[0m\u001b[0m\n\u001b[1;32m     47\u001b[0m         \u001b[0;32mtry\u001b[0m\u001b[0;34m:\u001b[0m\u001b[0;34m\u001b[0m\u001b[0;34m\u001b[0m\u001b[0m\n\u001b[0;32m---> 48\u001b[0;31m             \u001b[0mnew_state\u001b[0m \u001b[0;34m=\u001b[0m \u001b[0mmethod\u001b[0m\u001b[0;34m(\u001b[0m\u001b[0mself\u001b[0m\u001b[0;34m,\u001b[0m \u001b[0mstate\u001b[0m\u001b[0;34m,\u001b[0m \u001b[0;34m*\u001b[0m\u001b[0margs\u001b[0m\u001b[0;34m,\u001b[0m \u001b[0;34m**\u001b[0m\u001b[0mkwargs\u001b[0m\u001b[0;34m)\u001b[0m\u001b[0;34m\u001b[0m\u001b[0;34m\u001b[0m\u001b[0m\n\u001b[0m\u001b[1;32m     49\u001b[0m         \u001b[0;32mexcept\u001b[0m \u001b[0mENDRUN\u001b[0m \u001b[0;32mas\u001b[0m \u001b[0mexc\u001b[0m\u001b[0;34m:\u001b[0m\u001b[0;34m\u001b[0m\u001b[0;34m\u001b[0m\u001b[0m\n\u001b[1;32m     50\u001b[0m             \u001b[0mraise_end_run\u001b[0m \u001b[0;34m=\u001b[0m \u001b[0;32mTrue\u001b[0m\u001b[0;34m\u001b[0m\u001b[0;34m\u001b[0m\u001b[0m\n",
      "\u001b[0;32m~/Documents/repo/ML-Ops/venv/lib/python3.8/site-packages/prefect/engine/flow_runner.py\u001b[0m in \u001b[0;36mget_flow_run_state\u001b[0;34m(self, state, task_states, task_contexts, return_tasks, task_runner_state_handlers, executor)\u001b[0m\n\u001b[1;32m    616\u001b[0m \u001b[0;34m\u001b[0m\u001b[0m\n\u001b[1;32m    617\u001b[0m                 \u001b[0;32melse\u001b[0m\u001b[0;34m:\u001b[0m\u001b[0;34m\u001b[0m\u001b[0;34m\u001b[0m\u001b[0m\n\u001b[0;32m--> 618\u001b[0;31m                     task_states[task] = executor.submit(\n\u001b[0m\u001b[1;32m    619\u001b[0m                         \u001b[0mrun_task\u001b[0m\u001b[0;34m,\u001b[0m\u001b[0;34m\u001b[0m\u001b[0;34m\u001b[0m\u001b[0m\n\u001b[1;32m    620\u001b[0m                         \u001b[0mtask\u001b[0m\u001b[0;34m=\u001b[0m\u001b[0mtask\u001b[0m\u001b[0;34m,\u001b[0m\u001b[0;34m\u001b[0m\u001b[0;34m\u001b[0m\u001b[0m\n",
      "\u001b[0;32m~/Documents/repo/ML-Ops/venv/lib/python3.8/site-packages/prefect/executors/local.py\u001b[0m in \u001b[0;36msubmit\u001b[0;34m(self, fn, extra_context, *args, **kwargs)\u001b[0m\n\u001b[1;32m     26\u001b[0m             \u001b[0;34m-\u001b[0m \u001b[0mAny\u001b[0m\u001b[0;34m:\u001b[0m \u001b[0mthe\u001b[0m \u001b[0mresult\u001b[0m \u001b[0mof\u001b[0m\u001b[0;31m \u001b[0m\u001b[0;31m`\u001b[0m\u001b[0mfn\u001b[0m\u001b[0;34m(\u001b[0m\u001b[0;34m*\u001b[0m\u001b[0margs\u001b[0m\u001b[0;34m,\u001b[0m \u001b[0;34m**\u001b[0m\u001b[0mkwargs\u001b[0m\u001b[0;34m)\u001b[0m\u001b[0;31m`\u001b[0m\u001b[0;34m\u001b[0m\u001b[0;34m\u001b[0m\u001b[0m\n\u001b[1;32m     27\u001b[0m         \"\"\"\n\u001b[0;32m---> 28\u001b[0;31m         \u001b[0;32mreturn\u001b[0m \u001b[0mfn\u001b[0m\u001b[0;34m(\u001b[0m\u001b[0;34m*\u001b[0m\u001b[0margs\u001b[0m\u001b[0;34m,\u001b[0m \u001b[0;34m**\u001b[0m\u001b[0mkwargs\u001b[0m\u001b[0;34m)\u001b[0m\u001b[0;34m\u001b[0m\u001b[0;34m\u001b[0m\u001b[0m\n\u001b[0m\u001b[1;32m     29\u001b[0m \u001b[0;34m\u001b[0m\u001b[0m\n\u001b[1;32m     30\u001b[0m     \u001b[0;32mdef\u001b[0m \u001b[0mwait\u001b[0m\u001b[0;34m(\u001b[0m\u001b[0mself\u001b[0m\u001b[0;34m,\u001b[0m \u001b[0mfutures\u001b[0m\u001b[0;34m:\u001b[0m \u001b[0mAny\u001b[0m\u001b[0;34m)\u001b[0m \u001b[0;34m->\u001b[0m \u001b[0mAny\u001b[0m\u001b[0;34m:\u001b[0m\u001b[0;34m\u001b[0m\u001b[0;34m\u001b[0m\u001b[0m\n",
      "\u001b[0;32m~/Documents/repo/ML-Ops/venv/lib/python3.8/site-packages/prefect/engine/flow_runner.py\u001b[0m in \u001b[0;36mrun_task\u001b[0;34m(task, state, upstream_states, context, flow_result, task_runner_cls, task_runner_state_handlers, upstream_mapped_states, is_mapped_parent)\u001b[0m\n\u001b[1;32m    775\u001b[0m             \u001b[0mflow_result\u001b[0m\u001b[0;34m=\u001b[0m\u001b[0mflow_result\u001b[0m\u001b[0;34m,\u001b[0m\u001b[0;34m\u001b[0m\u001b[0;34m\u001b[0m\u001b[0m\n\u001b[1;32m    776\u001b[0m         )\n\u001b[0;32m--> 777\u001b[0;31m         return task_runner.run(\n\u001b[0m\u001b[1;32m    778\u001b[0m             \u001b[0mstate\u001b[0m\u001b[0;34m=\u001b[0m\u001b[0mstate\u001b[0m\u001b[0;34m,\u001b[0m\u001b[0;34m\u001b[0m\u001b[0;34m\u001b[0m\u001b[0m\n\u001b[1;32m    779\u001b[0m             \u001b[0mupstream_states\u001b[0m\u001b[0;34m=\u001b[0m\u001b[0mupstream_states\u001b[0m\u001b[0;34m,\u001b[0m\u001b[0;34m\u001b[0m\u001b[0;34m\u001b[0m\u001b[0m\n",
      "\u001b[0;32m~/Documents/repo/ML-Ops/venv/lib/python3.8/site-packages/prefect/utilities/executors.py\u001b[0m in \u001b[0;36mwrapper\u001b[0;34m(*args, **kwargs)\u001b[0m\n\u001b[1;32m    554\u001b[0m         \u001b[0;32mwhile\u001b[0m \u001b[0;32mTrue\u001b[0m\u001b[0;34m:\u001b[0m\u001b[0;34m\u001b[0m\u001b[0;34m\u001b[0m\u001b[0m\n\u001b[1;32m    555\u001b[0m             \u001b[0;32mtry\u001b[0m\u001b[0;34m:\u001b[0m\u001b[0;34m\u001b[0m\u001b[0;34m\u001b[0m\u001b[0m\n\u001b[0;32m--> 556\u001b[0;31m                 \u001b[0;32mreturn\u001b[0m \u001b[0mfunc\u001b[0m\u001b[0;34m(\u001b[0m\u001b[0;34m*\u001b[0m\u001b[0margs\u001b[0m\u001b[0;34m,\u001b[0m \u001b[0;34m**\u001b[0m\u001b[0mkwargs\u001b[0m\u001b[0;34m)\u001b[0m\u001b[0;34m\u001b[0m\u001b[0;34m\u001b[0m\u001b[0m\n\u001b[0m\u001b[1;32m    557\u001b[0m             \u001b[0;32mexcept\u001b[0m \u001b[0mRecursiveCall\u001b[0m \u001b[0;32mas\u001b[0m \u001b[0mexc\u001b[0m\u001b[0;34m:\u001b[0m\u001b[0;34m\u001b[0m\u001b[0;34m\u001b[0m\u001b[0m\n\u001b[1;32m    558\u001b[0m                 \u001b[0;32mtry\u001b[0m\u001b[0;34m:\u001b[0m\u001b[0;34m\u001b[0m\u001b[0;34m\u001b[0m\u001b[0m\n",
      "\u001b[0;32m~/Documents/repo/ML-Ops/venv/lib/python3.8/site-packages/prefect/engine/task_runner.py\u001b[0m in \u001b[0;36mrun\u001b[0;34m(self, state, upstream_states, context, is_mapped_parent)\u001b[0m\n\u001b[1;32m    295\u001b[0m \u001b[0;34m\u001b[0m\u001b[0m\n\u001b[1;32m    296\u001b[0m                 \u001b[0;31m# run the task\u001b[0m\u001b[0;34m\u001b[0m\u001b[0;34m\u001b[0m\u001b[0;34m\u001b[0m\u001b[0m\n\u001b[0;32m--> 297\u001b[0;31m                 \u001b[0mstate\u001b[0m \u001b[0;34m=\u001b[0m \u001b[0mself\u001b[0m\u001b[0;34m.\u001b[0m\u001b[0mget_task_run_state\u001b[0m\u001b[0;34m(\u001b[0m\u001b[0mstate\u001b[0m\u001b[0;34m,\u001b[0m \u001b[0minputs\u001b[0m\u001b[0;34m=\u001b[0m\u001b[0mtask_inputs\u001b[0m\u001b[0;34m)\u001b[0m\u001b[0;34m\u001b[0m\u001b[0;34m\u001b[0m\u001b[0m\n\u001b[0m\u001b[1;32m    298\u001b[0m \u001b[0;34m\u001b[0m\u001b[0m\n\u001b[1;32m    299\u001b[0m                 \u001b[0;31m# cache the output, if appropriate\u001b[0m\u001b[0;34m\u001b[0m\u001b[0;34m\u001b[0m\u001b[0;34m\u001b[0m\u001b[0m\n",
      "\u001b[0;32m~/Documents/repo/ML-Ops/venv/lib/python3.8/site-packages/prefect/engine/runner.py\u001b[0m in \u001b[0;36minner\u001b[0;34m(self, state, *args, **kwargs)\u001b[0m\n\u001b[1;32m     46\u001b[0m \u001b[0;34m\u001b[0m\u001b[0m\n\u001b[1;32m     47\u001b[0m         \u001b[0;32mtry\u001b[0m\u001b[0;34m:\u001b[0m\u001b[0;34m\u001b[0m\u001b[0;34m\u001b[0m\u001b[0m\n\u001b[0;32m---> 48\u001b[0;31m             \u001b[0mnew_state\u001b[0m \u001b[0;34m=\u001b[0m \u001b[0mmethod\u001b[0m\u001b[0;34m(\u001b[0m\u001b[0mself\u001b[0m\u001b[0;34m,\u001b[0m \u001b[0mstate\u001b[0m\u001b[0;34m,\u001b[0m \u001b[0;34m*\u001b[0m\u001b[0margs\u001b[0m\u001b[0;34m,\u001b[0m \u001b[0;34m**\u001b[0m\u001b[0mkwargs\u001b[0m\u001b[0;34m)\u001b[0m\u001b[0;34m\u001b[0m\u001b[0;34m\u001b[0m\u001b[0m\n\u001b[0m\u001b[1;32m     49\u001b[0m         \u001b[0;32mexcept\u001b[0m \u001b[0mENDRUN\u001b[0m \u001b[0;32mas\u001b[0m \u001b[0mexc\u001b[0m\u001b[0;34m:\u001b[0m\u001b[0;34m\u001b[0m\u001b[0;34m\u001b[0m\u001b[0m\n\u001b[1;32m     50\u001b[0m             \u001b[0mraise_end_run\u001b[0m \u001b[0;34m=\u001b[0m \u001b[0;32mTrue\u001b[0m\u001b[0;34m\u001b[0m\u001b[0;34m\u001b[0m\u001b[0m\n",
      "\u001b[0;32m~/Documents/repo/ML-Ops/venv/lib/python3.8/site-packages/prefect/engine/task_runner.py\u001b[0m in \u001b[0;36mget_task_run_state\u001b[0;34m(self, state, inputs)\u001b[0m\n\u001b[1;32m    857\u001b[0m \u001b[0;34m\u001b[0m\u001b[0m\n\u001b[1;32m    858\u001b[0m             \u001b[0;32mwith\u001b[0m \u001b[0mlog_context\u001b[0m\u001b[0;34m:\u001b[0m\u001b[0;34m\u001b[0m\u001b[0;34m\u001b[0m\u001b[0m\n\u001b[0;32m--> 859\u001b[0;31m                 value = prefect.utilities.executors.run_task_with_timeout(\n\u001b[0m\u001b[1;32m    860\u001b[0m                     \u001b[0mtask\u001b[0m\u001b[0;34m=\u001b[0m\u001b[0mself\u001b[0m\u001b[0;34m.\u001b[0m\u001b[0mtask\u001b[0m\u001b[0;34m,\u001b[0m\u001b[0;34m\u001b[0m\u001b[0;34m\u001b[0m\u001b[0m\n\u001b[1;32m    861\u001b[0m                     \u001b[0margs\u001b[0m\u001b[0;34m=\u001b[0m\u001b[0;34m(\u001b[0m\u001b[0;34m)\u001b[0m\u001b[0;34m,\u001b[0m\u001b[0;34m\u001b[0m\u001b[0;34m\u001b[0m\u001b[0m\n",
      "\u001b[0;32m~/Documents/repo/ML-Ops/venv/lib/python3.8/site-packages/prefect/utilities/executors.py\u001b[0m in \u001b[0;36mrun_task_with_timeout\u001b[0;34m(task, args, kwargs, logger)\u001b[0m\n\u001b[1;32m    452\u001b[0m     \u001b[0;31m# if no timeout, just run the function\u001b[0m\u001b[0;34m\u001b[0m\u001b[0;34m\u001b[0m\u001b[0;34m\u001b[0m\u001b[0m\n\u001b[1;32m    453\u001b[0m     \u001b[0;32mif\u001b[0m \u001b[0mtask\u001b[0m\u001b[0;34m.\u001b[0m\u001b[0mtimeout\u001b[0m \u001b[0;32mis\u001b[0m \u001b[0;32mNone\u001b[0m\u001b[0;34m:\u001b[0m\u001b[0;34m\u001b[0m\u001b[0;34m\u001b[0m\u001b[0m\n\u001b[0;32m--> 454\u001b[0;31m         \u001b[0;32mreturn\u001b[0m \u001b[0mtask\u001b[0m\u001b[0;34m.\u001b[0m\u001b[0mrun\u001b[0m\u001b[0;34m(\u001b[0m\u001b[0;34m*\u001b[0m\u001b[0margs\u001b[0m\u001b[0;34m,\u001b[0m \u001b[0;34m**\u001b[0m\u001b[0mkwargs\u001b[0m\u001b[0;34m)\u001b[0m  \u001b[0;31m# type: ignore\u001b[0m\u001b[0;34m\u001b[0m\u001b[0;34m\u001b[0m\u001b[0m\n\u001b[0m\u001b[1;32m    455\u001b[0m \u001b[0;34m\u001b[0m\u001b[0m\n\u001b[1;32m    456\u001b[0m     \u001b[0;31m# if we are running the main thread, use a signal to stop execution at the\u001b[0m\u001b[0;34m\u001b[0m\u001b[0;34m\u001b[0m\u001b[0;34m\u001b[0m\u001b[0m\n",
      "\u001b[0;32m/var/folders/8g/67y55mms29zf6yt6q92_3hsr0000gn/T/ipykernel_81881/2811821264.py\u001b[0m in \u001b[0;36mget_match_history\u001b[0;34m(username, password, db_name, api_key)\u001b[0m\n\u001b[1;32m     48\u001b[0m                 \u001b[0;34mf\"https://europe.api.riotgames.com/tft/match/v1/matches/{j}\"\u001b[0m\u001b[0;34m\u001b[0m\u001b[0;34m\u001b[0m\u001b[0m\n\u001b[1;32m     49\u001b[0m             )\n\u001b[0;32m---> 50\u001b[0;31m             \u001b[0mtime\u001b[0m\u001b[0;34m.\u001b[0m\u001b[0msleep\u001b[0m\u001b[0;34m(\u001b[0m\u001b[0;36m2\u001b[0m\u001b[0;34m)\u001b[0m\u001b[0;34m\u001b[0m\u001b[0;34m\u001b[0m\u001b[0m\n\u001b[0m\u001b[1;32m     51\u001b[0m             \u001b[0mmatch_detail\u001b[0m \u001b[0;34m=\u001b[0m \u001b[0mrequests\u001b[0m\u001b[0;34m.\u001b[0m\u001b[0mget\u001b[0m\u001b[0;34m(\u001b[0m\u001b[0mmatch_detail_url\u001b[0m\u001b[0;34m,\u001b[0m \u001b[0mheaders\u001b[0m\u001b[0;34m=\u001b[0m\u001b[0mquery_header\u001b[0m\u001b[0;34m)\u001b[0m\u001b[0;34m.\u001b[0m\u001b[0mjson\u001b[0m\u001b[0;34m(\u001b[0m\u001b[0;34m)\u001b[0m\u001b[0;34m\u001b[0m\u001b[0;34m\u001b[0m\u001b[0m\n\u001b[1;32m     52\u001b[0m             \u001b[0mprint\u001b[0m\u001b[0;34m(\u001b[0m\u001b[0mmatch_detail\u001b[0m\u001b[0;34m.\u001b[0m\u001b[0mkeys\u001b[0m\u001b[0;34m(\u001b[0m\u001b[0;34m)\u001b[0m\u001b[0;34m)\u001b[0m\u001b[0;34m\u001b[0m\u001b[0;34m\u001b[0m\u001b[0m\n",
      "\u001b[0;31mKeyboardInterrupt\u001b[0m: "
     ]
    }
   ],
   "source": [
    "with Flow(\"Get Latest Matches\") as flow:\n",
    "    dbname = \"teamfighttactics\"\n",
    "    get_match_history(\n",
    "        username=username, password=password, db_name=dbname, api_key=api_key\n",
    "    )\n",
    "\n",
    "flow.run()"
   ]
  },
  {
   "cell_type": "code",
   "execution_count": null,
   "metadata": {},
   "outputs": [],
   "source": []
  }
 ],
 "metadata": {
  "interpreter": {
   "hash": "f2eac088e867aeee03c8488a8410e7b3b94d88bd5468a0fc8e8b045392ed2f83"
  },
  "kernelspec": {
   "display_name": "Python 3.8.9 64-bit ('venv': venv)",
   "name": "python3"
  },
  "language_info": {
   "codemirror_mode": {
    "name": "ipython",
    "version": 3
   },
   "file_extension": ".py",
   "mimetype": "text/x-python",
   "name": "python",
   "nbconvert_exporter": "python",
   "pygments_lexer": "ipython3",
   "version": "3.8.9"
  },
  "orig_nbformat": 4
 },
 "nbformat": 4,
 "nbformat_minor": 2
}
