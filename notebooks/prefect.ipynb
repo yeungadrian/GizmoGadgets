{
 "cells": [
  {
   "cell_type": "markdown",
   "metadata": {},
   "source": [
    "## Prefect\n",
    "\n",
    "Template to run flows locally and quickly"
   ]
  },
  {
   "cell_type": "code",
   "execution_count": null,
   "metadata": {},
   "outputs": [],
   "source": [
    "import yaml\n",
    "\n",
    "import prefect\n",
    "from prefect import task, Flow, unmapped\n",
    "from prefect.tasks.secrets import PrefectSecret\n",
    "from prefect.tasks.postgres import PostgresExecute, PostgresFetch\n",
    "import requests\n",
    "from requests.adapters import HTTPAdapter\n",
    "from requests.packages.urllib3.util.retry import Retry\n",
    "import time\n",
    "from typing import List\n",
    "from pydantic import BaseModel\n",
    "import datetime\n",
    "\n"
   ]
  },
  {
   "cell_type": "code",
   "execution_count": null,
   "metadata": {},
   "outputs": [],
   "source": [
    "with open(\"../config.yml\", \"r\") as ymlfile:\n",
    "    cfg = yaml.load(ymlfile)\n",
    "api_key = cfg['riotgamesapi']['key']\n",
    "username = cfg['postgresql']['user']\n",
    "password = cfg['postgresql']['password']\n",
    "database = 'teamfighttactics'\n",
    "\n",
    "riot_header = {\"X-Riot-Token\": api_key}"
   ]
  },
  {
   "cell_type": "code",
   "execution_count": null,
   "metadata": {},
   "outputs": [],
   "source": []
  },
  {
   "cell_type": "code",
   "execution_count": null,
   "metadata": {},
   "outputs": [],
   "source": [
    "with Flow(\"Summoner - Master\") as flow:\n",
    "    password = password\n",
    "    league = \"MASTER\"\n",
    "    riot_header = {\"X-Riot-Token\": api_key}\n",
    "    db_args = {\n",
    "        \"db_name\": \"teamfighttactics\",\n",
    "        \"user\": username,\n",
    "        \"host\": \"127.0.0.1\",\n",
    "        \"port\": 5432,\n",
    "        \"commit\": True,\n",
    "    }\n",
    "\n",
    "    regions = [\n",
    "        \"BR1\",\n",
    "        \"EUN1\",\n",
    "        \"EUW1\",\n",
    "        \"JP1\",\n",
    "        \"KR\",\n",
    "        \"LA1\",\n",
    "        \"LA2\",\n",
    "        \"NA1\",\n",
    "        \"OC1\",\n",
    "        \"TR1\",\n",
    "        \"RU\",\n",
    "    ]\n",
    "\n",
    "    update_match_flow.map(\n",
    "        region=regions,\n",
    "        league=unmapped(league),\n",
    "        password=unmapped(password),\n",
    "        riot_header=unmapped(riot_header),\n",
    "        db_args=unmapped(db_args),\n",
    "    )\n",
    "\n",
    "flow.run()"
   ]
  },
  {
   "cell_type": "code",
   "execution_count": null,
   "metadata": {},
   "outputs": [],
   "source": []
  }
 ],
 "metadata": {
  "interpreter": {
   "hash": "f2eac088e867aeee03c8488a8410e7b3b94d88bd5468a0fc8e8b045392ed2f83"
  },
  "kernelspec": {
   "display_name": "Python 3.8.9 64-bit ('venv': venv)",
   "name": "python3"
  },
  "language_info": {
   "codemirror_mode": {
    "name": "ipython",
    "version": 3
   },
   "file_extension": ".py",
   "mimetype": "text/x-python",
   "name": "python",
   "nbconvert_exporter": "python",
   "pygments_lexer": "ipython3",
   "version": "3.8.9"
  },
  "orig_nbformat": 4
 },
 "nbformat": 4,
 "nbformat_minor": 2
}
