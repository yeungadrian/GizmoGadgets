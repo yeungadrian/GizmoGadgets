{
 "cells": [
  {
   "cell_type": "markdown",
   "metadata": {},
   "source": [
    "## Prefect"
   ]
  },
  {
   "cell_type": "code",
   "execution_count": 1,
   "metadata": {},
   "outputs": [
    {
     "name": "stderr",
     "output_type": "stream",
     "text": [
      "/Users/yeungadrian/Documents/repo/ML-Ops/venv/lib/python3.8/site-packages/pandas/compat/__init__.py:124: UserWarning: Could not import the lzma module. Your installed Python is incomplete. Attempting to use lzma compression will result in a RuntimeError.\n",
      "  warnings.warn(msg)\n"
     ]
    }
   ],
   "source": [
    "from prefect import task, Flow\n",
    "from prefect.tasks.secrets import PrefectSecret\n",
    "from prefect.tasks.postgres import PostgresExecute, PostgresFetch\n",
    "import psycopg2 as pg\n",
    "import requests\n",
    "import pandas as pd\n",
    "import time\n",
    "import yaml\n",
    "import requests\n",
    "import datetime"
   ]
  },
  {
   "cell_type": "code",
   "execution_count": 2,
   "metadata": {},
   "outputs": [
    {
     "name": "stderr",
     "output_type": "stream",
     "text": [
      "/var/folders/8g/67y55mms29zf6yt6q92_3hsr0000gn/T/ipykernel_81881/2003926877.py:2: YAMLLoadWarning: calling yaml.load() without Loader=... is deprecated, as the default Loader is unsafe. Please read https://msg.pyyaml.org/load for full details.\n",
      "  cfg = yaml.load(ymlfile)\n"
     ]
    }
   ],
   "source": [
    "with open(\"../config.yml\", \"r\") as ymlfile:\n",
    "    cfg = yaml.load(ymlfile)\n",
    "api_key = cfg['riotgamesapi']['key']\n",
    "username = cfg['postgresql']['user']\n",
    "password = cfg['postgresql']['password']\n",
    "database = 'teamfighttactics'"
   ]
  },
  {
   "cell_type": "code",
   "execution_count": 5,
   "metadata": {},
   "outputs": [],
   "source": [
    "@task\n",
    "def update_challenger_league(username, password, db_name, api_key):\n",
    "    \"\"\"A task that requires credentials to access something. Passing the\n",
    "    credentials in as an argument allows you to change how/where the\n",
    "    credentials are loaded (though we recommend using `PrefectSecret` tasks to\n",
    "    load them.\"\"\"\n",
    "    query_header = {\n",
    "            \"X-Riot-Token\": api_key\n",
    "    }\n",
    "    challenger_url = 'https://euw1.api.riotgames.com/tft/league/v1/challenger'\n",
    "    challenger_response = requests.get(url = challenger_url, headers=query_header).json()\n",
    "    challenger_response_df = pd.DataFrame(challenger_response['entries'])\n",
    "\n",
    "    for i in range(0, challenger_response_df.shape[0]):\n",
    "        summonerId = str(challenger_response_df[\"summonerId\"][i])\n",
    "        summonerName = str(challenger_response_df[\"summonerName\"][i])\n",
    "        leaguePoints = int(challenger_response_df[\"leaguePoints\"][i])\n",
    "\n",
    "        puuid_url = f'https://euw1.api.riotgames.com/tft/summoner/v1/summoners/{summonerId}'\n",
    "        puuid_response = requests.get(url = puuid_url, headers=query_header).json()\n",
    "        puuid = str(puuid_response[\"puuid\"])\n",
    "\n",
    "        time.sleep(1.6)\n",
    "\n",
    "        user_query = '''\n",
    "            INSERT INTO public.users(\n",
    "                id, summonername, summonerid, rankedleague, puuid, leaguepoints, region)\n",
    "                VALUES (DEFAULT, %s, %s, 'CHALLENGER', %s, %s , 'EUW1')\n",
    "                '''\n",
    "        query_data = (summonerName, summonerId, puuid,leaguePoints,)\n",
    "\n",
    "        PostgresExecute(\n",
    "            db_name=db_name,\n",
    "            user=username,\n",
    "            host=\"127.0.0.1\",\n",
    "            port=5432,\n",
    "            query=user_query,\n",
    "            data=query_data,\n",
    "            commit=True,\n",
    "        ).run(password=password)"
   ]
  },
  {
   "cell_type": "code",
   "execution_count": 6,
   "metadata": {},
   "outputs": [
    {
     "name": "stdout",
     "output_type": "stream",
     "text": [
      "[2021-10-27 23:35:36+0100] INFO - prefect.FlowRunner | Beginning Flow run for 'Hello'\n",
      "[2021-10-27 23:35:36+0100] INFO - prefect.TaskRunner | Task 'PASSWORD': Starting task run...\n",
      "[2021-10-27 23:35:37+0100] INFO - prefect.TaskRunner | Task 'PASSWORD': Finished task run for task with final state: 'Success'\n",
      "[2021-10-27 23:35:37+0100] INFO - prefect.TaskRunner | Task 'USERNAME': Starting task run...\n",
      "[2021-10-27 23:35:37+0100] INFO - prefect.TaskRunner | Task 'USERNAME': Finished task run for task with final state: 'Success'\n",
      "[2021-10-27 23:35:37+0100] INFO - prefect.TaskRunner | Task 'update_challenger_league': Starting task run...\n"
     ]
    }
   ],
   "source": [
    "with Flow(\"Hello\") as flow:\n",
    "    username = PrefectSecret(\"USERNAME\")\n",
    "    password = PrefectSecret(\"PASSWORD\")\n",
    "    dbname= 'teamfighttactics' \n",
    "    update_challenger_league(username = username, password = password,db_name = dbname, api_key = api_key )\n",
    "\n",
    "flow.run()"
   ]
  },
  {
   "cell_type": "code",
   "execution_count": null,
   "metadata": {},
   "outputs": [],
   "source": [
    "@task\n",
    "def get_match_history(username, password, db_name, api_key):\n",
    "    \"\"\"A task that requires credentials to access something. Passing the\n",
    "    credentials in as an argument allows you to change how/where the\n",
    "    credentials are loaded (though we recommend using `PrefectSecret` tasks to\n",
    "    load them.\"\"\"\n",
    "\n",
    "    query_header = {\"X-Riot-Token\": api_key}\n",
    "\n",
    "    user_query = \"SELECT puuid FROM users\"\n",
    "    password = password\n",
    "    puuids = PostgresFetch(\n",
    "        db_name=db_name,\n",
    "        user=username,\n",
    "        host=\"127.0.0.1\",\n",
    "        port=5432,\n",
    "        query=user_query,\n",
    "        data=None,\n",
    "        fetch=\"all\",\n",
    "        commit=True,\n",
    "    ).run(password=password)\n",
    "\n",
    "    for i in puuids:\n",
    "        the_puuid = i[0]\n",
    "        match_id_url = f\"https://europe.api.riotgames.com/tft/match/v1/matches/by-puuid/{the_puuid}/ids?count=20\"\n",
    "        recent_match_ids = requests.get(url=match_id_url, headers=query_header).json()\n",
    "        time.sleep(1.6)\n",
    "\n",
    "        match_id_query = \"SELECT matchid FROM matchdata WHERE matchid = ANY(%s);\"\n",
    "        match_id_data = (recent_match_ids,)\n",
    "        existing_ids = PostgresFetch(\n",
    "            db_name=dbname,\n",
    "            user=username,\n",
    "            host=\"127.0.0.1\",\n",
    "            port=5432,\n",
    "            query=match_id_query,\n",
    "            data=match_id_data,\n",
    "            fetch=\"all\",\n",
    "            commit=True,\n",
    "        ).run(password=password)\n",
    "\n",
    "        existing_ids = [i[0] for i in existing_ids]\n",
    "        new_matches = set(recent_match_ids).symmetric_difference(set(existing_ids))\n",
    "        new_matches = list(new_matches)\n",
    "\n",
    "        for j in new_matches:\n",
    "            match_detail_url = (\n",
    "                f\"https://europe.api.riotgames.com/tft/match/v1/matches/{j}\"\n",
    "            )\n",
    "            time.sleep(1.6)\n",
    "            match_detail = requests.get(match_detail_url, headers=query_header).json()\n",
    "\n",
    "            match_time = datetime.datetime.fromtimestamp(\n",
    "                match_detail[\"info\"][\"game_datetime\"] / 1e3\n",
    "            ).strftime(\"%Y-%m-%d %H:%M:%S\")\n",
    "            time_now = datetime.datetime.now().strftime(\"%Y-%m-%d %H:%M:%S\")\n",
    "\n",
    "            match_query = \"\"\"\n",
    "                    INSERT INTO matchdata VALUES (DEFAULT, %s,%s,%s, 'EUW')\n",
    "                    \"\"\"\n",
    "\n",
    "            match_data = (\n",
    "                j,\n",
    "                str(match_time),\n",
    "                str(time_now),\n",
    "            )\n",
    "\n",
    "            PostgresExecute(\n",
    "                db_name=dbname,\n",
    "                user=username,\n",
    "                host=\"127.0.0.1\",\n",
    "                port=5432,\n",
    "                query=match_query,\n",
    "                data=match_data,\n",
    "                commit=True,\n",
    "            ).run(password=password)"
   ]
  },
  {
   "cell_type": "code",
   "execution_count": null,
   "metadata": {},
   "outputs": [],
   "source": [
    "with Flow(\"Get Latest Matches\") as flow:\n",
    "    dbname = \"teamfighttactics\"\n",
    "    get_match_history(\n",
    "        username=username, password=password, db_name=dbname, api_key=api_key\n",
    "    )\n",
    "\n",
    "flow.run()"
   ]
  }
 ],
 "metadata": {
  "interpreter": {
   "hash": "f2eac088e867aeee03c8488a8410e7b3b94d88bd5468a0fc8e8b045392ed2f83"
  },
  "kernelspec": {
   "display_name": "Python 3.8.9 64-bit ('venv': venv)",
   "name": "python3"
  },
  "language_info": {
   "codemirror_mode": {
    "name": "ipython",
    "version": 3
   },
   "file_extension": ".py",
   "mimetype": "text/x-python",
   "name": "python",
   "nbconvert_exporter": "python",
   "pygments_lexer": "ipython3",
   "version": "3.8.9"
  },
  "orig_nbformat": 4
 },
 "nbformat": 4,
 "nbformat_minor": 2
}
