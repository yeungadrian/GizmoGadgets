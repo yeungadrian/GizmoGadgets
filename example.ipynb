{
 "cells": [
  {
   "cell_type": "code",
   "execution_count": 49,
   "source": [
    "import requests\n",
    "import json\n",
    "import time\n",
    "from tqdm import tqdm"
   ],
   "outputs": [],
   "metadata": {}
  },
  {
   "cell_type": "code",
   "execution_count": 36,
   "source": [
    "challenger_url = 'https://euw1.api.riotgames.com/tft/league/v1/challenger?api_key=RGAPI-3baad8e8-f01e-432a-98bb-81d4639afd0a'\n",
    "challenger_response = requests.get(url = challenger_url).json()"
   ],
   "outputs": [],
   "metadata": {}
  },
  {
   "cell_type": "code",
   "execution_count": 37,
   "source": [
    "grandmaster_url = 'https://euw1.api.riotgames.com/tft/league/v1/grandmaster?api_key=RGAPI-3baad8e8-f01e-432a-98bb-81d4639afd0a'\n",
    "grandmaster_response = requests.get(url = grandmaster_url).json()"
   ],
   "outputs": [],
   "metadata": {}
  },
  {
   "cell_type": "code",
   "execution_count": 40,
   "source": [
    "with open('features/data/challenger.json', 'w') as json_file:\n",
    "  json.dump(challenger_response, json_file)\n",
    "with open('features/data/grandmaster.json', 'w') as json_file:\n",
    "  json.dump(grandmaster_response, json_file)"
   ],
   "outputs": [],
   "metadata": {}
  },
  {
   "cell_type": "code",
   "execution_count": 51,
   "source": [
    "challenger_df = pd.DataFrame(challenger_response['entries'])\n",
    "\n",
    "puuidList = []\n",
    "for x in tqdm(challenger_df['summonerId']):\n",
    "    puuidUrl = f'https://euw1.api.riotgames.com/tft/summoner/v1/summoners/{x}?api_key=RGAPI-3baad8e8-f01e-432a-98bb-81d4639afd0a'\n",
    "    puuidList.append(requests.get(url = puuidUrl).json())\n",
    "    time.sleep(1.2)"
   ],
   "outputs": [
    {
     "output_type": "stream",
     "name": "stderr",
     "text": [
      "100%|██████████| 144/144 [03:23<00:00,  1.41s/it]\n"
     ]
    }
   ],
   "metadata": {}
  },
  {
   "cell_type": "code",
   "execution_count": 52,
   "source": [
    "with open('features/data/puuid.json', 'w') as json_file:\n",
    "  json.dump(puuidList, json_file)"
   ],
   "outputs": [],
   "metadata": {}
  },
  {
   "cell_type": "code",
   "execution_count": 54,
   "source": [
    "matchid_url = 'https://europe.api.riotgames.com/tft/match/v1/matches/by-puuid/HpQFceD22QJ4T0lfy-LyjRgZUBUMSlwZ9d0S0eUq9BhLPzUnhxrffZyOoyCrRjlyNlXxSjyucqSKsg/ids?count=20&api_key=RGAPI-3baad8e8-f01e-432a-98bb-81d4639afd0a'\n",
    "matchid = requests.get(matchid_url).json()"
   ],
   "outputs": [],
   "metadata": {}
  },
  {
   "cell_type": "code",
   "execution_count": 56,
   "source": [
    "with open('features/data/matchid.json', 'w') as json_file:\n",
    "  json.dump(matchid, json_file)"
   ],
   "outputs": [],
   "metadata": {}
  },
  {
   "cell_type": "code",
   "execution_count": 57,
   "source": [
    "match_info_list = []\n",
    "for x in tqdm(matchid):\n",
    "    match_info_url = f'https://europe.api.riotgames.com/tft/match/v1/matches/{x}?api_key=RGAPI-3baad8e8-f01e-432a-98bb-81d4639afd0a'\n",
    "    match_info = requests.get(match_info_url).json()\n",
    "    match_info_list.append(match_info)"
   ],
   "outputs": [
    {
     "output_type": "stream",
     "name": "stderr",
     "text": [
      "100%|██████████| 20/20 [00:15<00:00,  1.29it/s]\n"
     ]
    }
   ],
   "metadata": {}
  },
  {
   "cell_type": "code",
   "execution_count": 58,
   "source": [
    "with open('features/data/matchinfo.json', 'w') as json_file:\n",
    "  json.dump(match_info_list, json_file)"
   ],
   "outputs": [],
   "metadata": {}
  }
 ],
 "metadata": {
  "orig_nbformat": 4,
  "language_info": {
   "name": "python",
   "version": "3.8.9",
   "mimetype": "text/x-python",
   "codemirror_mode": {
    "name": "ipython",
    "version": 3
   },
   "pygments_lexer": "ipython3",
   "nbconvert_exporter": "python",
   "file_extension": ".py"
  },
  "kernelspec": {
   "name": "python3",
   "display_name": "Python 3.8.9 64-bit ('venv': venv)"
  },
  "interpreter": {
   "hash": "326098e64a23633e3b8f78d5261f211cc8683bd8f017c750c8d4fce3da8abd9a"
  }
 },
 "nbformat": 4,
 "nbformat_minor": 2
}